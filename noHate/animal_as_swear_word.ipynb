{
 "cells": [
  {
   "cell_type": "markdown",
   "metadata": {},
   "source": [
    "# animal_as_swear_word #"
   ]
  },
  {
   "cell_type": "code",
   "execution_count": 2,
   "metadata": {},
   "outputs": [
    {
     "name": "stderr",
     "output_type": "stream",
     "text": [
      "[nltk_data] Downloading package punkt to C:\\Users\\Ammon\n",
      "[nltk_data]     Stretz\\AppData\\Roaming\\nltk_data...\n",
      "[nltk_data]   Package punkt is already up-to-date!\n"
     ]
    }
   ],
   "source": [
    "#in this script all the display functions are defined\n",
    "%run functions.ipynb\n",
    "import csv\n",
    "import re"
   ]
  },
  {
   "cell_type": "code",
   "execution_count": 29,
   "metadata": {},
   "outputs": [
    {
     "name": "stdout",
     "output_type": "stream",
     "text": [
      "['Affe', 'Gorilla', 'Schimpanse', 'Schneeaffe', 'Elefant', 'Giraffe', 'Nashorn', 'Bär', 'Braunbär', 'Eisbär', 'Grizzly-Bär', 'Nasenbär', 'Panda-Bär', 'Fisch', 'Krebs', 'Hai', 'Koi', 'Wels', 'Haustier', 'Hund', 'Katze', 'Huftier', 'Alpaka', 'Bison', 'Elch', 'Esel', 'Kamel', 'Lama', 'Pferd', 'Reh', 'Schaf', 'Tapir', 'Ziege', 'Insekt', 'Ameise', 'Biene', 'Schabe', 'Meeressäuger', 'Wurm', 'Delfin', 'Robbe', 'Wal', 'Nagetier', 'Biber', 'Chinchilla', 'Degu', 'Eichhörnchen', 'Sau', 'Hamster', 'Kaninchen', 'Hase', 'Meerschweinchen', 'Maus', 'Nacktmull', 'Reptil', 'Alligator', 'Frosch', 'Gecko', 'Leguan', 'Schildkröte', 'Waran', 'Schwein', 'Wildschwein', 'Vogel', 'Adler', 'Alpensegler', 'Eule', 'Falke', 'Huhn', 'Mauerseegler', 'Meise', 'Papagei', 'Pinguin', 'Rotkehlchen', 'Sittich', 'Storch', 'Taube', 'Wildkatze', 'Gepard', 'Jaguar', 'Leopard', 'Luchs', 'Löwe', 'Tiger', 'Erdmännchen', 'Fledermaus', 'Koala', 'Ente', 'Koralle', 'Otter', 'Qualle', 'Spinne', 'Wolf']\n"
     ]
    }
   ],
   "source": [
    "#Swear_Word_Deutsch.csv\n",
    "animals = []\n",
    "with open('tiere.csv', encoding=\"utf8\") as csvfile:\n",
    "    reader = csv.DictReader(csvfile)\n",
    "    for row in reader:\n",
    "        animals.append(row['Names'])\n",
    "    print(animals)\n",
    "# als Teilwort\n",
    "def all(c):\n",
    "    return True\n",
    "def containsAnimal(element):\n",
    "    for animal in animals:\n",
    "        if element['text'].find(animal) > 0:\n",
    "            return True\n",
    "    return False\n"
   ]
  },
  {
   "cell_type": "code",
   "execution_count": 30,
   "metadata": {},
   "outputs": [
    {
     "name": "stdout",
     "output_type": "stream",
     "text": [
      "30\n"
     ]
    },
    {
     "data": {
      "image/png": "[encoded data removed]",
      "text/plain": [
       "<Figure size 432x288 with 1 Axes>"
      ]
     },
     "metadata": {
      "needs_background": "light"
     },
     "output_type": "display_data"
    },
    {
     "data": {
      "image/png": "[encoded data removed]",
      "text/plain": [
       "<Figure size 432x288 with 1 Axes>"
      ]
     },
     "metadata": {
      "needs_background": "light"
     },
     "output_type": "display_data"
    },
    {
     "name": "stdout",
     "output_type": "stream",
     "text": [
      "all\n"
     ]
    },
    {
     "data": {
      "text/html": [
       "<table>\n",
       "<tbody>\n",
       "<tr><td>all labels (670)</td><td>positiv (245)</td><td>negative (425)</td></tr>\n",
       "</tbody>\n",
       "</table>"
      ],
      "text/plain": [
       "<IPython.core.display.HTML object>"
      ]
     },
     "metadata": {},
     "output_type": "display_data"
    },
    {
     "data": {
      "text/html": [
       "<table>\n",
       "<tbody>\n",
       "<tr><td>             </td><td>true (452)</td><td>false (218)</td></tr>\n",
       "<tr><td>positiv (287)</td><td>157       </td><td>130        </td></tr>\n",
       "<tr><td>negativ (383)</td><td>295       </td><td>88         </td></tr>\n",
       "</tbody>\n",
       "</table>"
      ],
      "text/plain": [
       "<IPython.core.display.HTML object>"
      ]
     },
     "metadata": {},
     "output_type": "display_data"
    },
    {
     "data": {
      "text/html": [
       "<table>\n",
       "<tbody>\n",
       "<tr><td>accuracy          </td><td>precision         </td><td>recall            </td><td>f1Score           </td></tr>\n",
       "<tr><td>0.6746268656716418</td><td>0.5470383275261324</td><td>0.6408163265306123</td><td>0.5902255639097745</td></tr>\n",
       "</tbody>\n",
       "</table>"
      ],
      "text/plain": [
       "<IPython.core.display.HTML object>"
      ]
     },
     "metadata": {},
     "output_type": "display_data"
    },
    {
     "name": "stdout",
     "output_type": "stream",
     "text": [
      "nicht Schimpfwort Deutsch\n"
     ]
    },
    {
     "data": {
      "text/html": [
       "<table>\n",
       "<tbody>\n",
       "<tr><td>all labels (30)</td><td>positiv (14)</td><td>negative (16)</td></tr>\n",
       "</tbody>\n",
       "</table>"
      ],
      "text/plain": [
       "<IPython.core.display.HTML object>"
      ]
     },
     "metadata": {},
     "output_type": "display_data"
    },
    {
     "data": {
      "text/html": [
       "<table>\n",
       "<tbody>\n",
       "<tr><td>            </td><td>true (19)</td><td>false (11)</td></tr>\n",
       "<tr><td>positiv (19)</td><td>11       </td><td>8         </td></tr>\n",
       "<tr><td>negativ (11)</td><td>8        </td><td>3         </td></tr>\n",
       "</tbody>\n",
       "</table>"
      ],
      "text/plain": [
       "<IPython.core.display.HTML object>"
      ]
     },
     "metadata": {},
     "output_type": "display_data"
    },
    {
     "data": {
      "text/html": [
       "<table>\n",
       "<tbody>\n",
       "<tr><td>accuracy          </td><td>precision         </td><td>recall            </td><td>f1Score           </td></tr>\n",
       "<tr><td>0.6333333333333333</td><td>0.5789473684210527</td><td>0.7857142857142857</td><td>0.6666666666666667</td></tr>\n",
       "</tbody>\n",
       "</table>"
      ],
      "text/plain": [
       "<IPython.core.display.HTML object>"
      ]
     },
     "metadata": {},
     "output_type": "display_data"
    },
    {
     "data": {
      "text/html": [
       "<table>\n",
       "<tbody>\n",
       "<tr><td>all labels (670)</td><td>positiv (250)</td><td>negative (420)</td></tr>\n",
       "</tbody>\n",
       "</table>"
      ],
      "text/plain": [
       "<IPython.core.display.HTML object>"
      ]
     },
     "metadata": {},
     "output_type": "display_data"
    },
    {
     "data": {
      "text/html": [
       "<table>\n",
       "<tbody>\n",
       "<tr><td>             </td><td>true (463)</td><td>false (207)</td></tr>\n",
       "<tr><td>positiv (287)</td><td>165       </td><td>122        </td></tr>\n",
       "<tr><td>negativ (383)</td><td>298       </td><td>85         </td></tr>\n",
       "</tbody>\n",
       "</table>"
      ],
      "text/plain": [
       "<IPython.core.display.HTML object>"
      ]
     },
     "metadata": {},
     "output_type": "display_data"
    },
    {
     "data": {
      "text/html": [
       "<table>\n",
       "<tbody>\n",
       "<tr><td>accuracy         </td><td>precision         </td><td>recall</td><td>f1Score           </td></tr>\n",
       "<tr><td>0.691044776119403</td><td>0.5749128919860628</td><td>0.66  </td><td>0.6145251396648045</td></tr>\n",
       "</tbody>\n",
       "</table>"
      ],
      "text/plain": [
       "<IPython.core.display.HTML object>"
      ]
     },
     "metadata": {},
     "output_type": "display_data"
    }
   ],
   "source": [
    "uppercaseFilters = []\n",
    "print(len(list(filter(containsAnimal, data))))\n",
    "# uppercaseFilters.append(('all',generate_filter(0, 2000, uppercaseWords)))\n",
    "# addFilterInterval(uppercaseFilters, 0, 10, 1, uppercaseWords)\n",
    "uppercaseFilters.append(('all', all))\n",
    "# uppercaseFilters.append(('nicht Schimpfwort Deutsch',containsCountry))\n",
    "uppercaseFilters.append(('animal',containsAnimal))\n",
    "\n",
    "#name, filters, relative\n",
    "createPlt(name = \"Test1 absolute\", filters = uppercaseFilters, relative = False)\n",
    "createPlt(name = \"Test1 relative\", filters = uppercaseFilters, relative = True)\n",
    "print('all')\n",
    "showMetrics(calcMetrics())\n",
    "print('nicht Schimpfwort Deutsch')\n",
    "showMetrics(calcMetrics(uppercaseFilters[1][1]))\n",
    "showMetrics(calcMetricDifference(calcMetrics(uppercaseFilters[1][1])))"
   ]
  },
  {
   "cell_type": "code",
   "execution_count": null,
   "metadata": {},
   "outputs": [],
   "source": []
  },
  {
   "cell_type": "code",
   "execution_count": null,
   "metadata": {},
   "outputs": [],
   "source": []
  }
 ],
 "metadata": {
  "kernelspec": {
   "display_name": "Python 3",
   "language": "python",
   "name": "python3"
  },
  "language_info": {
   "codemirror_mode": {
    "name": "ipython",
    "version": 3
   },
   "file_extension": ".py",
   "mimetype": "text/x-python",
   "name": "python",
   "nbconvert_exporter": "python",
   "pygments_lexer": "ipython3",
   "version": "3.7.4"
  }
 },
 "nbformat": 4,
 "nbformat_minor": 2
}
