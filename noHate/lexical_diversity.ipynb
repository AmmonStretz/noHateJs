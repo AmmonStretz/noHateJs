{
 "cells": [
  {
   "cell_type": "markdown",
   "metadata": {},
   "source": [
    "# Lexical diversity #"
   ]
  },
  {
   "cell_type": "code",
   "execution_count": 103,
   "metadata": {},
   "outputs": [
    {
     "name": "stderr",
     "output_type": "stream",
     "text": [
      "[nltk_data] Downloading package punkt to C:\\Users\\Ammon\n",
      "[nltk_data]     Stretz\\AppData\\Roaming\\nltk_data...\n",
      "[nltk_data]   Package punkt is already up-to-date!\n"
     ]
    }
   ],
   "source": [
    "#in this script all the display functions are defined\n",
    "%run functions.ipynb"
   ]
  },
  {
   "cell_type": "code",
   "execution_count": 114,
   "metadata": {},
   "outputs": [],
   "source": [
    "nos = 20\n",
    "step_size = 5\n",
    "start_step = 10\n",
    "# the filter of the table\n",
    "def lexical_diversity(text):\n",
    "    return len(set(text)) / len(text)  * 100\n",
    "pfilters = []\n",
    "def generate_filter(i):\n",
    "    def f(element):\n",
    "        ld = lexical_diversity(element['tokens'])\n",
    "        if ld >= i * step_size and ld < (i + 1) * step_size:\n",
    "            return True\n",
    "        return False\n",
    "    return f\n",
    "\n",
    "for i in range(start_step, nos):\n",
    "    pfilters.append(('%s-%s' % (i*step_size, (i+1)*step_size-1),generate_filter(i)))\n",
    "\n",
    "# print(pfilters)"
   ]
  },
  {
   "cell_type": "code",
   "execution_count": 116,
   "metadata": {},
   "outputs": [
    {
     "data": {
      "image/png": "[encoded data removed]",
      "text/plain": [
       "<Figure size 432x288 with 1 Axes>"
      ]
     },
     "metadata": {
      "needs_background": "light"
     },
     "output_type": "display_data"
    },
    {
     "data": {
      "image/png": "[encoded data removed]",
      "text/plain": [
       "<Figure size 432x288 with 1 Axes>"
      ]
     },
     "metadata": {
      "needs_background": "light"
     },
     "output_type": "display_data"
    }
   ],
   "source": [
    "#name, filters, relative\n",
    "createPlt(name = \"Test1 absolute\", filters = pfilters, relative = False)\n",
    "createPlt(name = \"Test1 relative\", filters = pfilters, relative = True)"
   ]
  }
 ],
 "metadata": {
  "kernelspec": {
   "display_name": "Python 3",
   "language": "python",
   "name": "python3"
  },
  "language_info": {
   "codemirror_mode": {
    "name": "ipython",
    "version": 3
   },
   "file_extension": ".py",
   "mimetype": "text/x-python",
   "name": "python",
   "nbconvert_exporter": "python",
   "pygments_lexer": "ipython3",
   "version": "3.7.4"
  }
 },
 "nbformat": 4,
 "nbformat_minor": 2
}
