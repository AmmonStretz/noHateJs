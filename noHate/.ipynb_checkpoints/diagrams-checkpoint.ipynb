{
 "cells": [
  {
   "cell_type": "markdown",
   "metadata": {},
   "source": [
    "# Testdiagram #"
   ]
  },
  {
   "cell_type": "code",
   "execution_count": 6,
   "metadata": {},
   "outputs": [
    {
     "name": "stdout",
     "output_type": "stream",
     "text": [
      "loaded\n"
     ]
    }
   ],
   "source": [
    "#in this script all the display functions are defined\n",
    "%run functions.ipynb\n",
    "\n",
    "min = 0\n",
    "max = 200\n",
    "# the filter of the table\n",
    "def tableFilter(el):\n",
    "    return el['prediction'] != el['label'] and el['id']>=min and el['id']<max\n",
    "\n",
    "# the filters of the diagrams\n",
    "def filterText(element):\n",
    "    if element['text'].find('Ich') == -1:\n",
    "        return False\n",
    "    return True\n",
    "def filterText2(element):\n",
    "    if element['text'].find('Du') == -1:\n",
    "        return False\n",
    "    return True\n",
    "pfilters = [('Ich', filterText), ('Du', filterText2)]"
   ]
  },
  {
   "cell_type": "code",
   "execution_count": 7,
   "metadata": {},
   "outputs": [
    {
     "data": {
      "text/html": [
       "<table>\n",
       "<tbody>\n",
       "<tr><td>positiv labels (37)</td><td>negative labels (22)</td></tr>\n",
       "</tbody>\n",
       "</table>"
      ],
      "text/plain": [
       "<IPython.core.display.HTML object>"
      ]
     },
     "metadata": {},
     "output_type": "display_data"
    },
    {
     "data": {
      "text/html": [
       "<table>\n",
       "<tbody>\n",
       "<tr><td>            </td><td>true (0)</td><td>false (59)</td></tr>\n",
       "<tr><td>positiv (22)</td><td>0       </td><td>22        </td></tr>\n",
       "<tr><td>negativ (37)</td><td>0       </td><td>37        </td></tr>\n",
       "</tbody>\n",
       "</table>"
      ],
      "text/plain": [
       "<IPython.core.display.HTML object>"
      ]
     },
     "metadata": {},
     "output_type": "display_data"
    },
    {
     "data": {
      "text/html": [
       "<table>\n",
       "<tbody>\n",
       "<tr><td>accuracy</td><td>precision</td><td>recall</td><td>f1Score</td></tr>\n",
       "<tr><td>0.0     </td><td>0.0      </td><td>0.0   </td><td>0      </td></tr>\n",
       "</tbody>\n",
       "</table>"
      ],
      "text/plain": [
       "<IPython.core.display.HTML object>"
      ]
     },
     "metadata": {},
     "output_type": "display_data"
    }
   ],
   "source": [
    "showMetrics(calcMetrics(tableFilter))"
   ]
  },
  {
   "cell_type": "code",
   "execution_count": 8,
   "metadata": {},
   "outputs": [
    {
     "data": {
      "text/html": [
       "<table>\n",
       "<tbody>\n",
       "<tr><td>id </td><td>label</td><td>prediction</td><td>text                                                                                                                                                                                                                                                                                                                                                                                                           </td><td>probability</td></tr>\n",
       "<tr><td>0  </td><td>True </td><td>False     </td><td>Die von dem Leiter im Artikel gebrachten Stichworte lassen allerdings leise Zweifel aufkommen, ob es ihm wirklich um die Wiedergewinnung der demokratischen Meinungsfreiheiten geht.  Da scheint mehr die Definition von inhaltlich \"richtigen\" Meinungen das Thema zu sein.                                                                                                                                   </td><td>0.80126745 </td></tr>\n",
       "<tr><td>4  </td><td>False</td><td>True      </td><td>Also muss ich aufgrund der Angst anders anziehen und auf jegliche Religionsfreiheit uä verzichten wegen dem Faschismus im Osten?                                                                                                                                                                                                                                                                               </td><td>0.9357987  </td></tr>\n",
       "<tr><td>14 </td><td>False</td><td>True      </td><td>Also grob gerechnet 74 000 potenzielle Verbrecher und mit illegalen Grenzübertritt schon mal Straftäter, Asylbetrüger, Lügner, Sozialschmarotzer, Diebe und Leistungserschleicher und damit Betrüger. Das haben sie festgestellt                                                                                                                                                                               </td><td>0.58391875 </td></tr>\n",
       "<tr><td>17 </td><td>False</td><td>True      </td><td>Der Rechtsstaat wurde aber außer Kraft gesetzt, denn Richter entscheiden nach dem Willen der Regierung und der Macht. Und: Merkel bricht ohnehin ständig Gesetze ohne belangt zu werden.                                                                                                                                                                                                                       </td><td>0.66113186 </td></tr>\n",
       "<tr><td>20 </td><td>True </td><td>False     </td><td>Und währenddessen erreicht die Hetze gegen die AfD neue Höhepunkte.  In fast allen Mainstream-Medien wird die AfD jetzt als Partei der „Gaskammerleugner“ diffamiert, etwa vom Haushistoriker Kellerhoff bei WELT Online. Wichtig dabei: Die Wörter „AfD“, „Weidel“, „Gaskammer“ und „KZ“ in einem Satz unterzubringen.  Und der eitle, verlogene Gockel Thomas Strobl faselt von einer B                      </td><td>0.70325464 </td></tr>\n",
       "<tr><td>25 </td><td>True </td><td>False     </td><td>auch das Saarland wird von Idioten regiert !, mehr muß ich nicht Schreiben                                                                                                                                                                                                                                                                                                                                     </td><td>0.8218958  </td></tr>\n",
       "<tr><td>26 </td><td>False</td><td>True      </td><td>Auch der Schlächter von Uganda Iddie Ammin würde im linksgrünen Multikulti Buntland GerMoney Asyl erhalte,da er für seine Massenmorde in Uganda mit strenger Bestrafung rechnen müsste ! Auch Osama bin Laden Terroristenboss und Massenmörder der Al Qaeda ( hätten die Amis ihn nicht unschädlich gemacht ) würde in Bochum neben seinem einstigen Leibwächter,Gefährder und Hassprediger einen fau          </td><td>0.7865382  </td></tr>\n",
       "<tr><td>29 </td><td>False</td><td>True      </td><td>Die regierenden Politiker sind alle falsche Fuffziger...                                                                                                                                                                                                                                                                                                                                                       </td><td>0.9638893  </td></tr>\n",
       "<tr><td>31 </td><td>True </td><td>False     </td><td>Ständiges meckern über eine unfähige Bundesregierung bringt ja keinem steuerzahlenden Bürger weiter. Beim nächsten Gang zur Wahlurne einfach den Kopf einschalten und sich den ganzen Mist nochmal durch den Kopf gehen lassen                                                                                                                                                                                 </td><td>0.8299741  </td></tr>\n",
       "<tr><td>37 </td><td>False</td><td>True      </td><td>Manche Gäste kennen nicht die anderen kulturellen Regeln, manche setzen sich rüpelhaft darüber hinweg, wie am Strand oft einige Briten und Russen                                                                                                                                                                                                                                                              </td><td>0.72733253 </td></tr>\n",
       "<tr><td>38 </td><td>False</td><td>True      </td><td>Was macht die Frau in Deutschland? Sich vor der Wehrpflicht zu drücken, begründet kein Asyl. Und Migranten kennt unser Asylrecht nicht. Also, was macht die Frau hier?                                                                                                                                                                                                                                         </td><td>0.9646481  </td></tr>\n",
       "<tr><td>42 </td><td>False</td><td>True      </td><td>Und der nächste aus dem Saarland in der Freak-Show der obskuren Auftritte !   Wird ein wenig viel in letzter Zeit, nich ?  Dieses Ländle erscheint doch recht merkwürdig ! Erich der Dachdecker, das M.-Männchen, AKK-der Zwilling von Frau Merkel, jetzt noch dieser Märchenonkel.   Dagegen ist ja die Augsburger Puppenkiste als höchst seriös zu bezeichnen ! Oder Pittiplatsch mit seinem Gequatsche      </td><td>0.55765635 </td></tr>\n",
       "<tr><td>43 </td><td>True </td><td>False     </td><td>Einzig eine konsequente Ausweisung dieser Straftäter, in diesem Fall zuerst die Aberkennung der deutschen Staatsbürgerschaft, wie ist er überhaupt an die gekommen? Schon allein das bedürfte einer Untersuchung. Nur diese Maßnahme kann halbwegs weiter öffentliche Übergriffe verhindern                                                                                                                    </td><td>0.52690274 </td></tr>\n",
       "<tr><td>44 </td><td>False</td><td>True      </td><td>\"Freiheit des Individuums, welche im Islam gebrochen wird\" (Min 59-60) und das passt hervorragend zur deutschen Politik der letzten 20 Jahren - zur wachsenden Allzuständigkeit des Politischen Staates und seiner Regelung (17 Führerscheine, Händewaschzertifikate, Zwangsversicherungen, Bankregulierung beliebig erweiterbar...). Oder wie CDU AKK es sagte, \"wir werden die Normierung nicht zurückdreh   </td><td>0.9220432  </td></tr>\n",
       "<tr><td>48 </td><td>True </td><td>False     </td><td>Und das betrifft nicht nur die Enwanderung durch exotische Muslime, sondern auch die Energiewende, Verteuerung von Strom, Euroeinführung, Nullzinspolitik und Enteignung der Sparer, aber auch Verteufelung des Diesel, was den Fahrzeugwert vieler Fahrzeuge senkt, um nur ein paar Beispiele zu nennen. Hier wird nur noch nach unten getreten, und wenn sie so wollen, Mörder durch Justiz und Medien gesch </td><td>0.5237195  </td></tr>\n",
       "<tr><td>52 </td><td>False</td><td>True      </td><td>Einen Grund dafür konnte man gestern abend im ersten erfahren - die EU unterstützt die afrikanischen Despoten mit Waffen und sonstigem Material bei der Grenzsicherung, die Flüchtlnge /Migranten ertrinken jetzt nicht mehr im Mittelmehr sondern sterben in den Wüsten Westafrikas.                                                                                                                          </td><td>0.7761641  </td></tr>\n",
       "<tr><td>57 </td><td>False</td><td>True      </td><td>Die Menschen können den Zeitwert des Geldes nachweislich nicht richtig einschätzen. Und das Umlageverfahren der Sozialversicherung verstehen sie noch weniger. Damit sind wir den Taschenspielertricks von Banken, Versicherungen und Politikern hilflos ausgeliefert.                                                                                                                                         </td><td>0.82069206 </td></tr>\n",
       "<tr><td>69 </td><td>False</td><td>True      </td><td>Ich halte eine Physikerin???  Merkel für einen Stasi Fake, denn die weist Lücken selbst bei den Grundlagen von Physik und Mathe auf. Ich  halte CDU Merkel für ungebildet. Logische Zusammenhänge erfasst sie  schlecht. Lügenpresse (Fake News) schreibt jedoch Merkel sei klug. Sie solle alles von hinten denken, scheibt die Presse. Quatsch, ohne Augen vorn, kann man nicht sehen.                       </td><td>0.50505126 </td></tr>\n",
       "<tr><td>70 </td><td>True </td><td>False     </td><td>Den Teufel wird man nur ganz schwer los.............                                                                                                                                                                                                                                                                                                                                                           </td><td>0.7968194  </td></tr>\n",
       "<tr><td>77 </td><td>True </td><td>False     </td><td>Unter den Witschaftsbossen scheint es leider auch nicht viele helle Köpfe zu geben, denn sonst                                                                                                                                                                                                                                                                                                                 </td><td>0.83205956 </td></tr>\n",
       "<tr><td>80 </td><td>False</td><td>True      </td><td>Merkel geht unbeirrt den Weg des Global Compact for Migration weiter, also die massenhafte Umsiedlung von Menschen vorwiegend aus Afrika/Nordafrika nach Europa. Als Asylgrund gelten in Kürze neben „Klima“ auch Bürgerkrieg und Armut. Es ist also bewusst gewollt, ein neues Proletariat in Europa aufzubauen und Merkel verfolgt diesen Plan aus tiefster sozialistischer Seele. Wie immer wird das Vo     </td><td>0.69517046 </td></tr>\n",
       "<tr><td>85 </td><td>True </td><td>False     </td><td>Die eigentliche Aussage sollte doch wohl an die jungen Leute gerichtet sein, die sich mutwillig in diese Abenteuer begeben und ihre Eltern finanziell ruinieren                                                                                                                                                                                                                                                </td><td>0.65835214 </td></tr>\n",
       "<tr><td>86 </td><td>True </td><td>False     </td><td>Das ist BRD-Politik aus der \"Irren-Anstalt für ganz harte Fälle\"  Die Sozis wollen die Steuern erhöhen für die \"Rente\", - nachdem die SPD-Genossen Billionen !!! an Euros in den letzten Jahren in die ganze Welt verschenkt haben.  Und die CDU-Genossen toppen das mit alten National-Sozialistischen -Plänen der \"NSDAP\".                                                                                   </td><td>0.641014   </td></tr>\n",
       "<tr><td>93 </td><td>True </td><td>False     </td><td>In der SPD sind ja auch nur schlecht ausgebildete FACHKRÄFTE. Welche SPDler könnten denn Schmidt, Brandt,Wehner oder Bahr nur das Wasser reichen? Nahles, Schulz oder Hegner? Ich lach mich schlapp                                                                                                                                                                                                            </td><td>0.7209092  </td></tr>\n",
       "<tr><td>95 </td><td>False</td><td>True      </td><td>Es gibt zwar Gesetze (eigentlich nur Verordnungen), aber daran halten müssen sich nur die BRD-Bewohner. Politiker und Migranten haben Narrenfreiheit.                                                                                                                                                                                                                                                          </td><td>0.9267431  </td></tr>\n",
       "<tr><td>96 </td><td>True </td><td>False     </td><td>Das CDU-SPD-Regime in Dresden verschwindet wie ein Furz im Wind.                                                                                                                                                                                                                                                                                                                                               </td><td>0.82492995 </td></tr>\n",
       "<tr><td>98 </td><td>True </td><td>False     </td><td>..., wieder Publizistik aus der rot-grünen Schlammgrube. Da wird die ideologische Heckenschere gewetzt und die Argumente der Anderen erst einmal sauber in die rechte Ecke verortet. Der Faustschlag gegen die Afd darf natürlich nicht fehlen. Auch den NS-Bezug hat er nicht vergessen, wie auch die Seebrücke (Thema kriminelle \"Seenotretter\") und die böse rechte österreichische Regierung. Der ganze    </td><td>0.6596981  </td></tr>\n",
       "<tr><td>104</td><td>False</td><td>True      </td><td>Das 1,8 Millionen sogenannte Flüchtlinge von Hartz IV leben wird natürlich nicht erwähnt. Seit Ende 2014 sind mehr als 2,1 Millionen sogenannte Flüchtlinge nach Deutschland gekommen und mehr als 1,8 Millionen sind arbeitslos aber das erwähnt die \"Lückenpresse\" natürlich nicht                                                                                                                           </td><td>0.8582569  </td></tr>\n",
       "<tr><td>106</td><td>True </td><td>False     </td><td>Ist doch so oder so nur wieder eine Beruhigungspille, für das gutgläubige deutsche Volk                                                                                                                                                                                                                                                                                                                        </td><td>0.8332759  </td></tr>\n",
       "<tr><td>109</td><td>False</td><td>True      </td><td>Daniel wäre noch am Leben, wenn es das etablierte Politikerpack von cdulinkespdgrünen nicht geben würde, wenn es das Merkel-Kalifat nicht geben würde, wenn es die beiden Islam freundlichen und den Heiland verratenden Großsekten nicht geben würde, wenn es die Lügenmedien nicht geben würde…                                                                                                              </td><td>0.9657459  </td></tr>\n",
       "<tr><td>112</td><td>False</td><td>True      </td><td>Neue Afrikaner, da freut sich unsere Migrantenkanzlerin ;-)                                                                                                                                                                                                                                                                                                                                                    </td><td>0.6261373  </td></tr>\n",
       "<tr><td>116</td><td>False</td><td>True      </td><td>Was sagt der Bürgermeister zur Politik der GroKo, bei der sich zuletzt die SPD so sehr für den Nachzug von sogenannten Familienangehörigen eingesetzt hat. Oder hat der OB der Frau Özeguz beim Suchen der deutschen Leitkultur unterstützt ?  So sehr im dem OB Recht gebe, dass schon rumänische Zigeuner ein Problem sind, so sehr denke ich, dass er trotz der ganzen Probleme, die er jeden Tag ganz      </td><td>0.7527435  </td></tr>\n",
       "<tr><td>123</td><td>False</td><td>True      </td><td>Mal eine Frage: Ist das Bild von AM wirklich echt? Keine Fotomontage? Für mich ist das Satans Fratze in Menschengestalt!  Der dritte Antichrist nach Napoleon und Stalin ist schon lange auf der Erde (laut Offenbarung und auch etlicher Seher!)  … und ich dachte immer, es wäre Soros…                                                                                                                      </td><td>0.9192608  </td></tr>\n",
       "<tr><td>127</td><td>False</td><td>True      </td><td>Merkel-Gast bereichert Deutschland so schön bunt, vielfältig und weltoffen:  Messerattacke auf seine Frau: Afghane wegen versuchten Mordes vor Gericht                                                                                                                                                                                                                                                         </td><td>0.65435904 </td></tr>\n",
       "<tr><td>128</td><td>False</td><td>True      </td><td>Die Crux dabei: er hätte das potentielle Personal ja schon längst im Land und müsdte nicht Geld, Zeit und Ressourcen in Auslandswerbung stecken. Aber die Menschen, die scho n da sind werden teils aus der Ausbildung heraus abgeschoben... Ein richtiges Konzept sieht anders aus                                                                                                                            </td><td>0.8862522  </td></tr>\n",
       "<tr><td>129</td><td>False</td><td>True      </td><td>Gleichzeitig weist der Fall auf das Paradox hin, dass Rechtsnationale (AfDler, Pegida, NPDler etc.) eigentlich Ausländer > Migranten hassen, aber Russen und Russlanddeutsche nicht nur davon ausgenommen sind, sondern immer als Paradebeispiel für mustergültige Integration in Deutschland und Gesetzestreue angeführt werden. Die überdurchschnittliche Kriminalität von orientalischen Migranten wird     </td><td>0.79593265 </td></tr>\n",
       "<tr><td>133</td><td>False</td><td>True      </td><td>Deutschland hat ja noch nicht genug Flüchtlinge und diejenigen die in den anderen Ländern aufgenommen werden, sind spätestens in 4 Wochen auch in DE.                                                                                                                                                                                                                                                          </td><td>0.66881305 </td></tr>\n",
       "<tr><td>139</td><td>False</td><td>True      </td><td>… noch was, woher kommt Ramelow ??? Ist das nicht so ein \\\"Altkader\\\" aus dem Westen, den einst sogar der Verfassungsschutz beobachtete ?                                                                                                                                                                                                                                                                      </td><td>0.80502164 </td></tr>\n",
       "<tr><td>143</td><td>False</td><td>True      </td><td>300.000 gering qualifizierte Deutsche in Deutschland haben keinen Job mehr, dank der Tätigkeit der professionellen Politverbrecher und MSM-Nutten im Fast-Staat BRiD!                                                                                                                                                                                                                                          </td><td>0.5590442  </td></tr>\n",
       "<tr><td>151</td><td>False</td><td>True      </td><td>Die CDU hat keine Scheu davor, mit der SPD, den Grünen, der FDP und den Linken zu koalieren. Auch Frau KK hat sich nicht klar ausgedrückt, als sie bei Lanz gefragt wurde. Sie beherrscht das Geschwurbel schon genauso gut wie ihre Chefin. Dazu fällt mir ein Statement von Herrn Junker ein: „Wenn es ernst wird, muss man lügen.“ Natürlich wird die CDU mit den Linken koalieren oder sich tolerie        </td><td>0.84133506 </td></tr>\n",
       "<tr><td>153</td><td>False</td><td>True      </td><td>Familiennachzug wurde ja OHNE Mitbestimmung des deutschen Volkes im Bundestag von den korrupten Politikern beschlossen, was soll dieser scheiß Bericht?                                                                                                                                                                                                                                                        </td><td>0.81404847 </td></tr>\n",
       "<tr><td>154</td><td>False</td><td>True      </td><td>Wie er es vorausgesagt hatte herrscht nun Al Kaida in Libyen und eine Flut von Schwarzen kommt als Flüchtlinge nach Europa.                                                                                                                                                                                                                                                                                    </td><td>0.71445936 </td></tr>\n",
       "<tr><td>155</td><td>False</td><td>True      </td><td>Glauben die verantwortlichen europäischen Regierungen wirklich mit dieser Politik der offenen Grenzen die Flüchtlingskrise zu lösen? Ich hab so meine Zweifel!                                                                                                                                                                                                                                                 </td><td>0.9385938  </td></tr>\n",
       "<tr><td>159</td><td>True </td><td>False     </td><td>Ich gehe jetzt stark davon aus dass du nur große Klappe hast und geistlos den Floskeln deines Oberdruiden nachhängst ? Na... wer ist es denn ? Höcke, Storch, Gauland ? Ach komm kleiner Chupacabra, das kannst du doch wenigstens mal herausrücken *g                                                                                                                                                         </td><td>0.8061112  </td></tr>\n",
       "<tr><td>161</td><td>True </td><td>False     </td><td>Notgeile Schlampe ,warscheinlich Teddybärwerferin ! weiter so,dummheit wird Bestraft.                                                                                                                                                                                                                                                                                                                          </td><td>0.83126634 </td></tr>\n",
       "<tr><td>170</td><td>True </td><td>False     </td><td>Jetzt merkt man plötzlich, welch gewaltigen Fehler die Statiker begangen haben.                                                                                                                                                                                                                                                                                                                                </td><td>0.82388663 </td></tr>\n",
       "<tr><td>171</td><td>True </td><td>False     </td><td>Der Maulheld ist wieder da ,bete mal ein wenig schneller das dein Judengott vom Himmel fällt und alles wieder in Ordnung bringt                                                                                                                                                                                                                                                                                </td><td>0.52205175 </td></tr>\n",
       "<tr><td>172</td><td>False</td><td>True      </td><td>Man man, der kann doch nur auf der Waldorfschule gewesen sein. Soviel Naivität auf einem Haufen gibt es im ganzen Universum nicht noch einmal. Ich sehe  schon förmlich den Araberclan Nachwuchs vor mir wie er sozialen Dienst, Hand in Hand mit dem grünen Nachwuchs, an alten Deutschen verrichtet. Aber aus dem Saarland kommt ja eine Menge Naives.                                                       </td><td>0.70137537 </td></tr>\n",
       "<tr><td>173</td><td>True </td><td>False     </td><td>Deutschland ist nicht NUR Bayern und das ist eh NUR NOCH AUGENWISCHEREI!!! ÄNDERT VERDAMMT NOCHMAL DIE ASYL GESETZE ETC........ IHR LÜGNER.... Die Wahl steht an....da wird euch die Stimme im Hals stecken bleiben wenn sie NICHT gegfälscht wird....ihr VOLKSVERRÄTER vor dem Herrn                                                                                                                          </td><td>0.826432   </td></tr>\n",
       "<tr><td>175</td><td>True </td><td>False     </td><td>So lange die Bestie Merkel das nicht Stoppt                                                                                                                                                                                                                                                                                                                                                                    </td><td>0.77029175 </td></tr>\n",
       "<tr><td>180</td><td>False</td><td>True      </td><td>Müssen sich denn diese Volksvertreter wirklich an keine Gesetze halten? Dürfen die wirklich alles beschließen, was ihnen so durch die Birne geht? Wann wird endlich beschlossen, das diese „Spitzen der Politik“ wenigstens ein Mal in ihrem Leben gearbeitet haben müssen?                                                                                                                                    </td><td>0.5361877  </td></tr>\n",
       "<tr><td>186</td><td>False</td><td>True      </td><td>Du Linksgrünversiffter solltest vielleicht mal anfangen rational zu denken! Ihr redet von utopischen Lösungen die korrupte Regierungen niemals anstreben werden, deswegen jeden aufnehmen zu wollen, aufkosten des Allgemeinwohls der Bevölkerung, ist widerlich!                                                                                                                                              </td><td>0.81326467 </td></tr>\n",
       "<tr><td>187</td><td>True </td><td>False     </td><td>Lasche Verfolgung ist gut, Schleswig-Holstein ist bekannt dafür, das Straftaten von Asylanten gar nicht erst verfolgt werden, gab sogar mal eine entsprechende Dienstanweisung, die angeblich nicht mehr gelten soll. Bei uns gibt es z.B. Läden in denen Diebstähle von Asylanten nicht zur Anzeige gebracht werden und die Stadt den Schaden bezahlt. Wird nur nicht öffentlich zugegeben, aber einzelne M   </td><td>0.55187327 </td></tr>\n",
       "<tr><td>188</td><td>False</td><td>True      </td><td>Nur weil unsere Regierungen nicht genug verstand haben diesen Leuten in ihren Herkunftsländern zu helfen,übrigens zu weit geringeren Kosten.                                                                                                                                                                                                                                                                   </td><td>0.9653667  </td></tr>\n",
       "<tr><td>189</td><td>False</td><td>True      </td><td>Und zwar waren die Früheren Flüchtlinge integrationswilliger als heute , und Sie haben keine Menschen in den Gastländern ausgeraubt , verletzt ,vergewaltigt oder gar getötet . Warum fehlen diese Warheiten ?                                                                                                                                                                                                 </td><td>0.9137957  </td></tr>\n",
       "<tr><td>193</td><td>False</td><td>True      </td><td>\\\"Gefährder\\\" haben eigentlich nichts getan aber man fürchtet sie könnten. Das schließt Sami aus! Der Mann ist bewiesener weise ein Unterstützer von Terroristen und ein Mitglied in eine Terror Organisation!                                                                                                                                                                                                 </td><td>0.9316199  </td></tr>\n",
       "<tr><td>195</td><td>False</td><td>True      </td><td>Das bedeutet aber nicht, dass diese Menschen auch der BILD folgen oder das glauben, was in dem Schundblatt steht. Auch ich schaue mir die Artikel gelegentlich an – es ist wichtig, zu wissen, was der Feind so von sich gibt. Und ich gehe davon aus, dass sämtliche Politiker in Deutschland regelmäßig die eigene Propaganda lesen wollen.                                                                  </td><td>0.9195905  </td></tr>\n",
       "<tr><td>197</td><td>True </td><td>False     </td><td>\\r Das ist wiedermal linksirrealer Blödsinn von linken Elfenbeinturmgelehrten.\\r Das [b]Benzin[/b], das hinter dem Aufstieg des Sarrazinismus und Rassismus steht, das Benzin also, das das ganze anfeuert ---> [b]ist[/b] Angst! Abstiegsangst der schon Abgerutschten und der bald Abrutschenden.\\r \\r Wie irreal das Geblubber dieser Gelehrten ist, erkennt man schon an folgendem kleinen Gedankenexperime</td><td>0.8220649  </td></tr>\n",
       "<tr><td>198</td><td>False</td><td>True      </td><td>Alle anderen waren und sind keine Flüchtlinge, denn sie wurden weder verfolgt noch kommen sie aus Kriegsgebieten. Sie sind Versorgungssucher, die meist von ihren Familien gegen hohe Schleusersummen geschickt werden, um europäische Sozialgelder abzugreifen, die dann an die Familien geschickt werden bzw. teilweise an die Schleuserbanden fließen.                                                      </td><td>0.9166397  </td></tr>\n",
       "</tbody>\n",
       "</table>"
      ],
      "text/plain": [
       "<IPython.core.display.HTML object>"
      ]
     },
     "metadata": {},
     "output_type": "display_data"
    }
   ],
   "source": [
    "showData(dataFilter)"
   ]
  },
  {
   "cell_type": "code",
   "execution_count": 11,
   "metadata": {},
   "outputs": [
    {
     "data": {
      "image/png": "[encoded data removed]",
      "text/plain": [
       "<Figure size 432x288 with 1 Axes>"
      ]
     },
     "metadata": {
      "needs_background": "light"
     },
     "output_type": "display_data"
    },
    {
     "data": {
      "image/png": "[encoded data removed]",
      "text/plain": [
       "<Figure size 432x288 with 1 Axes>"
      ]
     },
     "metadata": {
      "needs_background": "light"
     },
     "output_type": "display_data"
    }
   ],
   "source": [
    "#name, filters, relative\n",
    "createPlt(name = \"Test1 relative\", filters = pfilters, relative = True)\n",
    "createPlt(name = \"Test1 absolute\", filters = pfilters, relative = False)"
   ]
  }
 ],
 "metadata": {
  "kernelspec": {
   "display_name": "Python 3",
   "language": "python",
   "name": "python3"
  },
  "language_info": {
   "codemirror_mode": {
    "name": "ipython",
    "version": 3
   },
   "file_extension": ".py",
   "mimetype": "text/x-python",
   "name": "python",
   "nbconvert_exporter": "python",
   "pygments_lexer": "ipython3",
   "version": "3.7.4"
  }
 },
 "nbformat": 4,
 "nbformat_minor": 2
}
