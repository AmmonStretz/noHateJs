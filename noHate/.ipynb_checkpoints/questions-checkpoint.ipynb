{
 "cells": [
  {
   "cell_type": "markdown",
   "metadata": {},
   "source": [
    "# Rethorische Fragen und Aussagen #\n",
    "\n",
    "Hypothese:\n",
    "Toxic Statements werden oft unter verwendung Verwendung von rethorischen Fragen und Aussagen angebracht. \n",
    "\n",
    "Grund für Beschäftigung:\n",
    "Challenges for Toxic Comment Classification:\n",
    "An In-Depth Error Analysis\n",
    "\n",
    "TODO: BSP"
   ]
  },
  {
   "cell_type": "code",
   "execution_count": 3,
   "metadata": {},
   "outputs": [
    {
     "name": "stdout",
     "output_type": "stream",
     "text": [
      "Du PRON\n",
      "bist AUX\n",
      "Arschloch NOUN\n"
     ]
    }
   ],
   "source": [
    "#in this script all the display functions are defined\n",
    "%run functions-spacy.ipynb"
   ]
  },
  {
   "cell_type": "code",
   "execution_count": 6,
   "metadata": {},
   "outputs": [],
   "source": [
    "question_words = ['wer', 'wie', 'was', 'wieso', 'warum', 'weshalb', 'wo', 'wohin', 'woher', 'wann', 'wen', 'wem', 'woran', 'worauf', 'wozu', 'weswegen']\n",
    "\n",
    "\n",
    "# als Teilwort\n",
    "def all(c):\n",
    "    return True\n",
    "def containsQuestion(element):\n",
    "    hasQW = False\n",
    "    for token in element['tokens']:\n",
    "        for question_word in question_words:\n",
    "            if question_word == token.text.lower():\n",
    "                hasQW = True\n",
    "        if token.pos_ == 'PUNCT' and token.text != ',':\n",
    "            if token.text == '?':\n",
    "                return True\n",
    "            hasQW = False\n",
    "    return False\n",
    "def containsExclamation(element):\n",
    "    hasQW = False\n",
    "    for token in element['tokens']:\n",
    "        for question_word in question_words:\n",
    "            if question_word == token.text.lower():\n",
    "                hasQW = True\n",
    "        if token.pos_ == 'PUNCT' and token.text != ',':\n",
    "            if token.text == '!':\n",
    "                return True\n",
    "            hasQW = False\n",
    "    return False"
   ]
  },
  {
   "cell_type": "code",
   "execution_count": 8,
   "metadata": {},
   "outputs": [
    {
     "data": {
      "image/png": "[encoded data removed]",
      "text/plain": [
       "<Figure size 432x288 with 1 Axes>"
      ]
     },
     "metadata": {
      "needs_background": "light"
     },
     "output_type": "display_data"
    },
    {
     "data": {
      "image/png": "[encoded data removed]",
      "text/plain": [
       "<Figure size 432x288 with 1 Axes>"
      ]
     },
     "metadata": {
      "needs_background": "light"
     },
     "output_type": "display_data"
    },
    {
     "name": "stdout",
     "output_type": "stream",
     "text": [
      "all\n"
     ]
    },
    {
     "data": {
      "text/html": [
       "<table>\n",
       "<tbody>\n",
       "<tr><td>positiv labels (287)</td><td>negative labels (383)</td></tr>\n",
       "</tbody>\n",
       "</table>"
      ],
      "text/plain": [
       "<IPython.core.display.HTML object>"
      ]
     },
     "metadata": {},
     "output_type": "display_data"
    },
    {
     "data": {
      "text/html": [
       "<table>\n",
       "<tbody>\n",
       "<tr><td>             </td><td>true (452)</td><td>false (218)</td></tr>\n",
       "<tr><td>positiv (245)</td><td>157       </td><td>88         </td></tr>\n",
       "<tr><td>negativ (425)</td><td>295       </td><td>130        </td></tr>\n",
       "</tbody>\n",
       "</table>"
      ],
      "text/plain": [
       "<IPython.core.display.HTML object>"
      ]
     },
     "metadata": {},
     "output_type": "display_data"
    },
    {
     "data": {
      "text/html": [
       "<table>\n",
       "<tbody>\n",
       "<tr><td>accuracy          </td><td>precision         </td><td>recall            </td><td>f1Score           </td></tr>\n",
       "<tr><td>0.6746268656716418</td><td>0.6408163265306123</td><td>0.5470383275261324</td><td>0.5902255639097745</td></tr>\n",
       "</tbody>\n",
       "</table>"
      ],
      "text/plain": [
       "<IPython.core.display.HTML object>"
      ]
     },
     "metadata": {},
     "output_type": "display_data"
    },
    {
     "name": "stdout",
     "output_type": "stream",
     "text": [
      "exclamation\n"
     ]
    },
    {
     "data": {
      "text/html": [
       "<table>\n",
       "<tbody>\n",
       "<tr><td>positiv labels (57)</td><td>negative labels (61)</td></tr>\n",
       "</tbody>\n",
       "</table>"
      ],
      "text/plain": [
       "<IPython.core.display.HTML object>"
      ]
     },
     "metadata": {},
     "output_type": "display_data"
    },
    {
     "data": {
      "text/html": [
       "<table>\n",
       "<tbody>\n",
       "<tr><td>            </td><td>true (88)</td><td>false (30)</td></tr>\n",
       "<tr><td>positiv (51)</td><td>39       </td><td>12        </td></tr>\n",
       "<tr><td>negativ (67)</td><td>49       </td><td>18        </td></tr>\n",
       "</tbody>\n",
       "</table>"
      ],
      "text/plain": [
       "<IPython.core.display.HTML object>"
      ]
     },
     "metadata": {},
     "output_type": "display_data"
    },
    {
     "data": {
      "text/html": [
       "<table>\n",
       "<tbody>\n",
       "<tr><td>accuracy          </td><td>precision         </td><td>recall            </td><td>f1Score           </td></tr>\n",
       "<tr><td>0.7457627118644068</td><td>0.7647058823529411</td><td>0.6842105263157895</td><td>0.7222222222222222</td></tr>\n",
       "</tbody>\n",
       "</table>"
      ],
      "text/plain": [
       "<IPython.core.display.HTML object>"
      ]
     },
     "metadata": {},
     "output_type": "display_data"
    },
    {
     "name": "stdout",
     "output_type": "stream",
     "text": [
      "exclamation change\n"
     ]
    },
    {
     "data": {
      "text/html": [
       "<table>\n",
       "<tbody>\n",
       "<tr><td>positiv labels (281)</td><td>negative labels (389)</td></tr>\n",
       "</tbody>\n",
       "</table>"
      ],
      "text/plain": [
       "<IPython.core.display.HTML object>"
      ]
     },
     "metadata": {},
     "output_type": "display_data"
    },
    {
     "data": {
      "text/html": [
       "<table>\n",
       "<tbody>\n",
       "<tr><td>             </td><td>true (482)</td><td>false (188)</td></tr>\n",
       "<tr><td>positiv (245)</td><td>169       </td><td>76         </td></tr>\n",
       "<tr><td>negativ (425)</td><td>313       </td><td>112        </td></tr>\n",
       "</tbody>\n",
       "</table>"
      ],
      "text/plain": [
       "<IPython.core.display.HTML object>"
      ]
     },
     "metadata": {},
     "output_type": "display_data"
    },
    {
     "data": {
      "text/html": [
       "<table>\n",
       "<tbody>\n",
       "<tr><td>accuracy          </td><td>precision        </td><td>recall            </td><td>f1Score           </td></tr>\n",
       "<tr><td>0.7194029850746269</td><td>0.689795918367347</td><td>0.6014234875444839</td><td>0.6425855513307985</td></tr>\n",
       "</tbody>\n",
       "</table>"
      ],
      "text/plain": [
       "<IPython.core.display.HTML object>"
      ]
     },
     "metadata": {},
     "output_type": "display_data"
    }
   ],
   "source": [
    "uppercaseFilters = []\n",
    "# uppercaseFilters.append(('all',generate_filter(0, 2000, uppercaseWords)))\n",
    "# addFilterInterval(uppercaseFilters, 0, 10, 1, uppercaseWords)\n",
    "uppercaseFilters.append(('all', all))\n",
    "uppercaseFilters.append(('question', containsQuestion))\n",
    "uppercaseFilters.append(('exclamation', containsExclamation))\n",
    "\n",
    "#name, filters, relative\n",
    "# print('uppercase word count')\n",
    "createPlt(name = \"Test1 absolute\", filters = uppercaseFilters, relative = False)\n",
    "createPlt(name = \"Test1 relative\", filters = uppercaseFilters, relative = True)\n",
    "# print('All')\n",
    "# showMetrics(calcMetrics(generate_filter(0, 2000, uppercaseWords)))\n",
    "# print('1-16')\n",
    "print('all')\n",
    "showMetrics(calcMetrics())\n",
    "print('exclamation')\n",
    "showMetrics(calcMetrics(uppercaseFilters[2][1]))\n",
    "print('exclamation change')\n",
    "showMetrics(calcMetricDifference(calcMetrics(uppercaseFilters[2][1])))"
   ]
  },
  {
   "cell_type": "code",
   "execution_count": null,
   "metadata": {},
   "outputs": [],
   "source": []
  },
  {
   "cell_type": "code",
   "execution_count": null,
   "metadata": {},
   "outputs": [],
   "source": []
  }
 ],
 "metadata": {
  "kernelspec": {
   "display_name": "Python 3",
   "language": "python",
   "name": "python3"
  },
  "language_info": {
   "codemirror_mode": {
    "name": "ipython",
    "version": 3
   },
   "file_extension": ".py",
   "mimetype": "text/x-python",
   "name": "python",
   "nbconvert_exporter": "python",
   "pygments_lexer": "ipython3",
   "version": "3.7.5"
  }
 },
 "nbformat": 4,
 "nbformat_minor": 2
}
