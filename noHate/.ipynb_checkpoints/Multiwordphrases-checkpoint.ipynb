{
 "cells": [
  {
   "cell_type": "markdown",
   "metadata": {},
   "source": [
    "# keywords #"
   ]
  },
  {
   "cell_type": "code",
   "execution_count": 31,
   "metadata": {},
   "outputs": [
    {
     "name": "stderr",
     "output_type": "stream",
     "text": [
      "[nltk_data] Downloading package punkt to C:\\Users\\Ammon\n",
      "[nltk_data]     Stretz\\AppData\\Roaming\\nltk_data...\n",
      "[nltk_data]   Package punkt is already up-to-date!\n"
     ]
    }
   ],
   "source": [
    "#in this script all the display functions are defined\n",
    "%run functions.ipynb"
   ]
  },
  {
   "cell_type": "code",
   "execution_count": 32,
   "metadata": {},
   "outputs": [],
   "source": [
    "# als Teilwort\n",
    "def all(c):\n",
    "    return True\n",
    "def findFilter(contains):\n",
    "    def f(element):\n",
    "        return element['text'].lower().find(contains) > 0\n",
    "    return f"
   ]
  },
  {
   "cell_type": "code",
   "execution_count": 33,
   "metadata": {},
   "outputs": [
    {
     "data": {
      "image/png": "[encoded data removed]",
      "text/plain": [
       "<Figure size 432x288 with 1 Axes>"
      ]
     },
     "metadata": {
      "needs_background": "light"
     },
     "output_type": "display_data"
    },
    {
     "data": {
      "image/png": "[encoded data removed]",
      "text/plain": [
       "<Figure size 432x288 with 1 Axes>"
      ]
     },
     "metadata": {
      "needs_background": "light"
     },
     "output_type": "display_data"
    },
    {
     "name": "stdout",
     "output_type": "stream",
     "text": [
      "all\n"
     ]
    },
    {
     "data": {
      "text/html": [
       "<table>\n",
       "<tbody>\n",
       "<tr><td>all labels (670)</td><td>positiv (245)</td><td>negative (425)</td></tr>\n",
       "</tbody>\n",
       "</table>"
      ],
      "text/plain": [
       "<IPython.core.display.HTML object>"
      ]
     },
     "metadata": {},
     "output_type": "display_data"
    },
    {
     "data": {
      "text/html": [
       "<table>\n",
       "<tbody>\n",
       "<tr><td>             </td><td>true (452)</td><td>false (218)</td></tr>\n",
       "<tr><td>positiv (287)</td><td>157       </td><td>130        </td></tr>\n",
       "<tr><td>negativ (383)</td><td>295       </td><td>88         </td></tr>\n",
       "</tbody>\n",
       "</table>"
      ],
      "text/plain": [
       "<IPython.core.display.HTML object>"
      ]
     },
     "metadata": {},
     "output_type": "display_data"
    },
    {
     "data": {
      "text/html": [
       "<table>\n",
       "<tbody>\n",
       "<tr><td>accuracy          </td><td>precision         </td><td>recall            </td><td>f1Score           </td></tr>\n",
       "<tr><td>0.6746268656716418</td><td>0.5470383275261324</td><td>0.6408163265306123</td><td>0.5902255639097745</td></tr>\n",
       "</tbody>\n",
       "</table>"
      ],
      "text/plain": [
       "<IPython.core.display.HTML object>"
      ]
     },
     "metadata": {},
     "output_type": "display_data"
    },
    {
     "name": "stdout",
     "output_type": "stream",
     "text": [
      "deutsch\n"
     ]
    },
    {
     "data": {
      "text/html": [
       "<table>\n",
       "<tbody>\n",
       "<tr><td>all labels (670)</td><td>positiv (245)</td><td>negative (425)</td></tr>\n",
       "</tbody>\n",
       "</table>"
      ],
      "text/plain": [
       "<IPython.core.display.HTML object>"
      ]
     },
     "metadata": {},
     "output_type": "display_data"
    },
    {
     "data": {
      "text/html": [
       "<table>\n",
       "<tbody>\n",
       "<tr><td>             </td><td>true (452)</td><td>false (218)</td></tr>\n",
       "<tr><td>positiv (287)</td><td>157       </td><td>130        </td></tr>\n",
       "<tr><td>negativ (383)</td><td>295       </td><td>88         </td></tr>\n",
       "</tbody>\n",
       "</table>"
      ],
      "text/plain": [
       "<IPython.core.display.HTML object>"
      ]
     },
     "metadata": {},
     "output_type": "display_data"
    },
    {
     "data": {
      "text/html": [
       "<table>\n",
       "<tbody>\n",
       "<tr><td>accuracy          </td><td>precision         </td><td>recall            </td><td>f1Score           </td></tr>\n",
       "<tr><td>0.6746268656716418</td><td>0.5470383275261324</td><td>0.6408163265306123</td><td>0.5902255639097745</td></tr>\n",
       "</tbody>\n",
       "</table>"
      ],
      "text/plain": [
       "<IPython.core.display.HTML object>"
      ]
     },
     "metadata": {},
     "output_type": "display_data"
    }
   ],
   "source": [
    "uppercaseFilters = []\n",
    "# uppercaseFilters.append(('all',generate_filter(0, 2000, uppercaseWords)))\n",
    "# addFilterInterval(uppercaseFilters, 0, 10, 1, uppercaseWords)\n",
    "uppercaseFilters.append(('all', all))\n",
    "uppercaseFilters.append(('deutsch',findFilter('deutsch')))\n",
    "\n",
    "#name, filters, relative\n",
    "# print('uppercase word count')\n",
    "createPlt(name = \"Test1 absolute\", filters = uppercaseFilters, relative = False)\n",
    "createPlt(name = \"Test1 relative\", filters = uppercaseFilters, relative = True)\n",
    "# print('All')\n",
    "# showMetrics(calcMetrics(generate_filter(0, 2000, uppercaseWords)))\n",
    "# print('1-16')\n",
    "print('all')\n",
    "showMetrics(calcMetrics())\n",
    "print('deutsch')\n",
    "showMetrics(calcMetrics(uppercaseFilters[0][1]))"
   ]
  },
  {
   "cell_type": "code",
   "execution_count": null,
   "metadata": {},
   "outputs": [],
   "source": []
  },
  {
   "cell_type": "code",
   "execution_count": null,
   "metadata": {},
   "outputs": [],
   "source": []
  }
 ],
 "metadata": {
  "kernelspec": {
   "display_name": "Python 3",
   "language": "python",
   "name": "python3"
  },
  "language_info": {
   "codemirror_mode": {
    "name": "ipython",
    "version": 3
   },
   "file_extension": ".py",
   "mimetype": "text/x-python",
   "name": "python",
   "nbconvert_exporter": "python",
   "pygments_lexer": "ipython3",
   "version": "3.7.4"
  }
 },
 "nbformat": 4,
 "nbformat_minor": 2
}
