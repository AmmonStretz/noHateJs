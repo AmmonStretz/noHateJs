{
 "cells": [
  {
   "cell_type": "markdown",
   "metadata": {},
   "source": [
    "# Nationalitäten #\n",
    "\n",
    "Hypothese:\n",
    "Die Verwendung von Nationalitäten führen zu Fehlern, weil diese als wertend interpretiert werden können.\n",
    "\n",
    "Grund für Beschäftigung:\n",
    "Quantitative Analyse\n",
    "\n",
    "TODO: BSP"
   ]
  },
  {
   "cell_type": "code",
   "execution_count": 1,
   "metadata": {},
   "outputs": [],
   "source": [
    "%run ../config.ipynb\n",
    "%run ../lib/data_loader.ipynb\n",
    "%run ../lib/helper_functions.ipynb\n",
    "%run ../lib/diagramm_generator.ipynb\n",
    "%run ../lib/metrics_generator.ipynb\n",
    "%run ../lib/table_generator.ipynb\n",
    "\n",
    "data = load_data('../data/predictions.json')"
   ]
  },
  {
   "cell_type": "code",
   "execution_count": 4,
   "metadata": {},
   "outputs": [],
   "source": [
    "import csv\n",
    "import requests\n",
    "import datetime\n",
    "import math\n",
    "\n",
    "requestData = []\n",
    "responseData = []\n",
    "output = []\n",
    "i = 0\n",
    "stepsize = 100\n",
    "maxLines = 670\n",
    "\n",
    "countries = []\n",
    "adjectives = []\n",
    "nationalities = []\n",
    "\n",
    "with open('../data/Nationalitäten.csv', encoding=\"utf8\") as csvfile:\n",
    "    reader = csv.DictReader(csvfile, delimiter=';')\n",
    "    for row in reader:\n",
    "        countries.append(row['country'])\n",
    "        if row['adjektiv'] != '---':\n",
    "            adjectives.append(row['adjektiv'])\n",
    "        if row['nationalityM'] != '---':\n",
    "            nationalities.append(row['nationalityM'])\n",
    "        if row['nationalityF'] != '---':\n",
    "            nationalities.append(row['nationalityF'])"
   ]
  },
  {
   "cell_type": "code",
   "execution_count": 5,
   "metadata": {},
   "outputs": [],
   "source": [
    "# als Teilwort\n",
    "def all(c):\n",
    "    return True\n",
    "def findFilter(contains):\n",
    "    def f(element):\n",
    "        return element['text'].lower().find(contains) > 0\n",
    "    return f\n",
    "def containsAdjective(element):\n",
    "    for adjective in adjectives:\n",
    "#         for token in element['tokens']:\n",
    "#             if token.lower() == adjective.lower():\n",
    "#                 return True\n",
    "        if element['text'].lower().find(adjective) > 0:\n",
    "            return True\n",
    "    return False\n",
    "def containsCountry(element):\n",
    "    for country in countries:\n",
    "        if element['text'].lower().find(country.lower()) > 0:\n",
    "            return True\n",
    "    return False\n",
    "def containsNationality(element):\n",
    "    for nationality in nationalities:\n",
    "#         for token in element['tokens']:\n",
    "#             if token.lower() == nationality.lower():\n",
    "#                 return True\n",
    "        if element['text'].lower().find(nationality.lower()) > 0:\n",
    "            return True\n",
    "    return False\n",
    "def containsAdjectiveWithoutDeutsch(element):\n",
    "    for adjective in adjectives:\n",
    "        if element['text'].lower().find(adjective) > 0 and element['text'].lower().find('deutsch') == -1:\n",
    "            return True\n",
    "    return False"
   ]
  },
  {
   "cell_type": "code",
   "execution_count": 6,
   "metadata": {},
   "outputs": [
    {
     "data": {
      "image/png": "[encoded data removed]",
      "text/plain": [
       "<Figure size 432x288 with 1 Axes>"
      ]
     },
     "metadata": {
      "needs_background": "light"
     },
     "output_type": "display_data"
    },
    {
     "data": {
      "image/png": "[encoded data removed]",
      "text/plain": [
       "<Figure size 432x288 with 1 Axes>"
      ]
     },
     "metadata": {
      "needs_background": "light"
     },
     "output_type": "display_data"
    },
    {
     "name": "stdout",
     "output_type": "stream",
     "text": [
      "all\n"
     ]
    },
    {
     "data": {
      "text/html": [
       "<table>\n",
       "<tbody>\n",
       "<tr><td>positiv labels (287)</td><td>negative labels (383)</td></tr>\n",
       "</tbody>\n",
       "</table>"
      ],
      "text/plain": [
       "<IPython.core.display.HTML object>"
      ]
     },
     "metadata": {},
     "output_type": "display_data"
    },
    {
     "data": {
      "text/html": [
       "<table>\n",
       "<tbody>\n",
       "<tr><td>             </td><td>true (452)</td><td>false (218)</td></tr>\n",
       "<tr><td>positiv (245)</td><td>157       </td><td>88         </td></tr>\n",
       "<tr><td>negativ (425)</td><td>295       </td><td>130        </td></tr>\n",
       "</tbody>\n",
       "</table>"
      ],
      "text/plain": [
       "<IPython.core.display.HTML object>"
      ]
     },
     "metadata": {},
     "output_type": "display_data"
    },
    {
     "data": {
      "text/html": [
       "<table>\n",
       "<tbody>\n",
       "<tr><td>accuracy          </td><td>precision         </td><td>recall            </td><td>f1Score           </td></tr>\n",
       "<tr><td>0.6746268656716418</td><td>0.6408163265306123</td><td>0.5470383275261324</td><td>0.5902255639097745</td></tr>\n",
       "</tbody>\n",
       "</table>"
      ],
      "text/plain": [
       "<IPython.core.display.HTML object>"
      ]
     },
     "metadata": {},
     "output_type": "display_data"
    },
    {
     "name": "stdout",
     "output_type": "stream",
     "text": [
      "deutsch\n"
     ]
    },
    {
     "data": {
      "text/html": [
       "<table>\n",
       "<tbody>\n",
       "<tr><td>positiv labels (77)</td><td>negative labels (66)</td></tr>\n",
       "</tbody>\n",
       "</table>"
      ],
      "text/plain": [
       "<IPython.core.display.HTML object>"
      ]
     },
     "metadata": {},
     "output_type": "display_data"
    },
    {
     "data": {
      "text/html": [
       "<table>\n",
       "<tbody>\n",
       "<tr><td>            </td><td>true (82)</td><td>false (61)</td></tr>\n",
       "<tr><td>positiv (60)</td><td>38       </td><td>22        </td></tr>\n",
       "<tr><td>negativ (83)</td><td>44       </td><td>39        </td></tr>\n",
       "</tbody>\n",
       "</table>"
      ],
      "text/plain": [
       "<IPython.core.display.HTML object>"
      ]
     },
     "metadata": {},
     "output_type": "display_data"
    },
    {
     "data": {
      "text/html": [
       "<table>\n",
       "<tbody>\n",
       "<tr><td>accuracy          </td><td>precision         </td><td>recall            </td><td>f1Score           </td></tr>\n",
       "<tr><td>0.5734265734265734</td><td>0.6333333333333333</td><td>0.4935064935064935</td><td>0.5547445255474452</td></tr>\n",
       "</tbody>\n",
       "</table>"
      ],
      "text/plain": [
       "<IPython.core.display.HTML object>"
      ]
     },
     "metadata": {},
     "output_type": "display_data"
    },
    {
     "name": "stdout",
     "output_type": "stream",
     "text": [
      "deutsch change\n"
     ]
    },
    {
     "data": {
      "text/html": [
       "<table>\n",
       "<tbody>\n",
       "<tr><td>positiv labels (270)</td><td>negative labels (400)</td></tr>\n",
       "</tbody>\n",
       "</table>"
      ],
      "text/plain": [
       "<IPython.core.display.HTML object>"
      ]
     },
     "metadata": {},
     "output_type": "display_data"
    },
    {
     "data": {
      "text/html": [
       "<table>\n",
       "<tbody>\n",
       "<tr><td>             </td><td>true (513)</td><td>false (157)</td></tr>\n",
       "<tr><td>positiv (245)</td><td>179       </td><td>66         </td></tr>\n",
       "<tr><td>negativ (425)</td><td>334       </td><td>91         </td></tr>\n",
       "</tbody>\n",
       "</table>"
      ],
      "text/plain": [
       "<IPython.core.display.HTML object>"
      ]
     },
     "metadata": {},
     "output_type": "display_data"
    },
    {
     "data": {
      "text/html": [
       "<table>\n",
       "<tbody>\n",
       "<tr><td>accuracy          </td><td>precision         </td><td>recall           </td><td>f1Score           </td></tr>\n",
       "<tr><td>0.7656716417910447</td><td>0.7306122448979592</td><td>0.662962962962963</td><td>0.6951456310679612</td></tr>\n",
       "</tbody>\n",
       "</table>"
      ],
      "text/plain": [
       "<IPython.core.display.HTML object>"
      ]
     },
     "metadata": {},
     "output_type": "display_data"
    },
    {
     "name": "stdout",
     "output_type": "stream",
     "text": [
      "Adjektive\n"
     ]
    },
    {
     "data": {
      "text/html": [
       "<table>\n",
       "<tbody>\n",
       "<tr><td>positiv labels (84)</td><td>negative labels (77)</td></tr>\n",
       "</tbody>\n",
       "</table>"
      ],
      "text/plain": [
       "<IPython.core.display.HTML object>"
      ]
     },
     "metadata": {},
     "output_type": "display_data"
    },
    {
     "data": {
      "text/html": [
       "<table>\n",
       "<tbody>\n",
       "<tr><td>            </td><td>true (96)</td><td>false (65)</td></tr>\n",
       "<tr><td>positiv (69)</td><td>44       </td><td>25        </td></tr>\n",
       "<tr><td>negativ (92)</td><td>52       </td><td>40        </td></tr>\n",
       "</tbody>\n",
       "</table>"
      ],
      "text/plain": [
       "<IPython.core.display.HTML object>"
      ]
     },
     "metadata": {},
     "output_type": "display_data"
    },
    {
     "data": {
      "text/html": [
       "<table>\n",
       "<tbody>\n",
       "<tr><td>accuracy          </td><td>precision         </td><td>recall            </td><td>f1Score           </td></tr>\n",
       "<tr><td>0.5962732919254659</td><td>0.6376811594202898</td><td>0.5238095238095238</td><td>0.5751633986928104</td></tr>\n",
       "</tbody>\n",
       "</table>"
      ],
      "text/plain": [
       "<IPython.core.display.HTML object>"
      ]
     },
     "metadata": {},
     "output_type": "display_data"
    },
    {
     "name": "stdout",
     "output_type": "stream",
     "text": [
      "Adjektive change\n"
     ]
    },
    {
     "data": {
      "text/html": [
       "<table>\n",
       "<tbody>\n",
       "<tr><td>positiv labels (272)</td><td>negative labels (398)</td></tr>\n",
       "</tbody>\n",
       "</table>"
      ],
      "text/plain": [
       "<IPython.core.display.HTML object>"
      ]
     },
     "metadata": {},
     "output_type": "display_data"
    },
    {
     "data": {
      "text/html": [
       "<table>\n",
       "<tbody>\n",
       "<tr><td>             </td><td>true (517)</td><td>false (153)</td></tr>\n",
       "<tr><td>positiv (245)</td><td>182       </td><td>63         </td></tr>\n",
       "<tr><td>negativ (425)</td><td>335       </td><td>90         </td></tr>\n",
       "</tbody>\n",
       "</table>"
      ],
      "text/plain": [
       "<IPython.core.display.HTML object>"
      ]
     },
     "metadata": {},
     "output_type": "display_data"
    },
    {
     "data": {
      "text/html": [
       "<table>\n",
       "<tbody>\n",
       "<tr><td>accuracy          </td><td>precision         </td><td>recall            </td><td>f1Score           </td></tr>\n",
       "<tr><td>0.7716417910447761</td><td>0.7428571428571429</td><td>0.6691176470588235</td><td>0.7040618955512573</td></tr>\n",
       "</tbody>\n",
       "</table>"
      ],
      "text/plain": [
       "<IPython.core.display.HTML object>"
      ]
     },
     "metadata": {},
     "output_type": "display_data"
    }
   ],
   "source": [
    "uppercaseFilters = []\n",
    "# uppercaseFilters.append(('all',generate_filter(0, 2000, uppercaseWords)))\n",
    "# addFilterInterval(uppercaseFilters, 0, 10, 1, uppercaseWords)\n",
    "uppercaseFilters.append(('all', all))\n",
    "uppercaseFilters.append(('deutsch',findFilter('deutsch')))\n",
    "uppercaseFilters.append(('Adjektive',containsAdjective))\n",
    "uppercaseFilters.append(('Countries',containsCountry))\n",
    "uppercaseFilters.append(('Nationality',containsNationality))\n",
    "\n",
    "#name, filters, relative\n",
    "# print('uppercase word count')\n",
    "createPlt(name = \"Test1 absolute\", filters = uppercaseFilters, relative = False)\n",
    "createPlt(name = \"Test1 relative\", filters = uppercaseFilters, relative = True)\n",
    "# print('All')\n",
    "# showMetrics(calcMetrics(generate_filter(0, 2000, uppercaseWords)))\n",
    "# print('1-16')\n",
    "print('all')\n",
    "showMetrics(calcMetrics())\n",
    "print('deutsch')\n",
    "showMetrics(calcMetrics(uppercaseFilters[1][1]))\n",
    "print('deutsch change')\n",
    "showMetrics(calcMetricDifference(calcMetrics(uppercaseFilters[1][1])))\n",
    "print('Adjektive')\n",
    "showMetrics(calcMetrics(uppercaseFilters[2][1]))\n",
    "print('Adjektive change')\n",
    "showMetrics(calcMetricDifference(calcMetrics(uppercaseFilters[2][1])))"
   ]
  },
  {
   "cell_type": "code",
   "execution_count": null,
   "metadata": {},
   "outputs": [],
   "source": []
  },
  {
   "cell_type": "code",
   "execution_count": null,
   "metadata": {},
   "outputs": [],
   "source": []
  }
 ],
 "metadata": {
  "kernelspec": {
   "display_name": "Python 3",
   "language": "python",
   "name": "python3"
  },
  "language_info": {
   "codemirror_mode": {
    "name": "ipython",
    "version": 3
   },
   "file_extension": ".py",
   "mimetype": "text/x-python",
   "name": "python",
   "nbconvert_exporter": "python",
   "pygments_lexer": "ipython3",
   "version": "3.7.6"
  }
 },
 "nbformat": 4,
 "nbformat_minor": 2
}
