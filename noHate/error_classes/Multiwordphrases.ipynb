{
 "cells": [
  {
   "cell_type": "markdown",
   "metadata": {},
   "source": [
    "# Multi word phrases #\n",
    "\n",
    "Hypothese:\n",
    "Wenn Wörter mit einem Bindestrich verbunden werden kann es dazu führen, dass die Bedeutung falsch interpretiert wird.\n",
    "\n",
    "Grund: Challenges for Toxic Comment Classification:\n",
    "An In-Depth Error Analysis\n",
    "\n",
    "# Schimpfwörter #\n",
    "\n",
    "Hypothese:\n",
    "Schimpfwörter werden fehlinterpretiert wenn sie durch Sonderzeichen verschleiert werden.\n",
    "\n",
    "Grund: Statische Analyse"
   ]
  },
  {
   "cell_type": "code",
   "execution_count": 1,
   "metadata": {},
   "outputs": [],
   "source": [
    "%run ../config.ipynb\n",
    "%run ../lib/data_loader.ipynb\n",
    "%run ../lib/helper_functions.ipynb\n",
    "%run ../lib/diagramm_generator.ipynb\n",
    "%run ../lib/metrics_generator.ipynb\n",
    "%run ../lib/table_generator.ipynb\n",
    "\n",
    "data = load_data('../data/predictions.json')\n",
    "import csv\n",
    "import re"
   ]
  },
  {
   "cell_type": "code",
   "execution_count": 2,
   "metadata": {},
   "outputs": [],
   "source": [
    "#Swear_Word_Deutsch.csv\n",
    "ger_swear_words = []\n",
    "with open('../data/Swear_Word_Deutsch.csv', encoding=\"utf8\") as csvfile:\n",
    "    reader = csv.DictReader(csvfile)\n",
    "    for row in reader:\n",
    "        ger_swear_words.append(row['Swear Word'])\n",
    "# als Teilwort\n",
    "def all(c):\n",
    "    return True\n",
    "def containsSwearWord(element):\n",
    "    for ger_swear_word in ger_swear_words:\n",
    "        if element['text'].find(ger_swear_word) > 0:\n",
    "            return False\n",
    "    return True\n",
    "def findReFilter(regexp):\n",
    "    def f(element):\n",
    "        return regexp.search(element['text'])\n",
    "    return f\n"
   ]
  },
  {
   "cell_type": "code",
   "execution_count": 3,
   "metadata": {},
   "outputs": [
    {
     "data": {
      "image/png": "[encoded data removed]",
      "text/plain": [
       "<Figure size 432x288 with 1 Axes>"
      ]
     },
     "metadata": {
      "needs_background": "light"
     },
     "output_type": "display_data"
    },
    {
     "data": {
      "image/png": "[encoded data removed]",
      "text/plain": [
       "<Figure size 432x288 with 1 Axes>"
      ]
     },
     "metadata": {
      "needs_background": "light"
     },
     "output_type": "display_data"
    },
    {
     "name": "stdout",
     "output_type": "stream",
     "text": [
      "all\n"
     ]
    },
    {
     "data": {
      "text/html": [
       "<table>\n",
       "<tbody>\n",
       "<tr><td>positiv labels (287)</td><td>negative labels (383)</td></tr>\n",
       "</tbody>\n",
       "</table>"
      ],
      "text/plain": [
       "<IPython.core.display.HTML object>"
      ]
     },
     "metadata": {},
     "output_type": "display_data"
    },
    {
     "data": {
      "text/html": [
       "<table>\n",
       "<tbody>\n",
       "<tr><td>             </td><td>true (452)</td><td>false (218)</td></tr>\n",
       "<tr><td>positiv (245)</td><td>157       </td><td>88         </td></tr>\n",
       "<tr><td>negativ (425)</td><td>295       </td><td>130        </td></tr>\n",
       "</tbody>\n",
       "</table>"
      ],
      "text/plain": [
       "<IPython.core.display.HTML object>"
      ]
     },
     "metadata": {},
     "output_type": "display_data"
    },
    {
     "data": {
      "text/html": [
       "<table>\n",
       "<tbody>\n",
       "<tr><td>accuracy          </td><td>precision         </td><td>recall            </td><td>f1Score           </td></tr>\n",
       "<tr><td>0.6746268656716418</td><td>0.6408163265306123</td><td>0.5470383275261324</td><td>0.5902255639097745</td></tr>\n",
       "</tbody>\n",
       "</table>"
      ],
      "text/plain": [
       "<IPython.core.display.HTML object>"
      ]
     },
     "metadata": {},
     "output_type": "display_data"
    },
    {
     "name": "stdout",
     "output_type": "stream",
     "text": [
      "nicht Schimpfwort Deutsch\n"
     ]
    },
    {
     "data": {
      "text/html": [
       "<table>\n",
       "<tbody>\n",
       "<tr><td>positiv labels (3)</td><td>negative labels (6)</td></tr>\n",
       "</tbody>\n",
       "</table>"
      ],
      "text/plain": [
       "<IPython.core.display.HTML object>"
      ]
     },
     "metadata": {},
     "output_type": "display_data"
    },
    {
     "data": {
      "text/html": [
       "<table>\n",
       "<tbody>\n",
       "<tr><td>           </td><td>true (7)</td><td>false (2)</td></tr>\n",
       "<tr><td>positiv (5)</td><td>3       </td><td>2        </td></tr>\n",
       "<tr><td>negativ (4)</td><td>4       </td><td>0        </td></tr>\n",
       "</tbody>\n",
       "</table>"
      ],
      "text/plain": [
       "<IPython.core.display.HTML object>"
      ]
     },
     "metadata": {},
     "output_type": "display_data"
    },
    {
     "data": {
      "text/html": [
       "<table>\n",
       "<tbody>\n",
       "<tr><td>accuracy          </td><td>precision</td><td>recall</td><td>f1Score           </td></tr>\n",
       "<tr><td>0.7777777777777778</td><td>0.6      </td><td>1.0   </td><td>0.7499999999999999</td></tr>\n",
       "</tbody>\n",
       "</table>"
      ],
      "text/plain": [
       "<IPython.core.display.HTML object>"
      ]
     },
     "metadata": {},
     "output_type": "display_data"
    },
    {
     "data": {
      "text/html": [
       "<table>\n",
       "<tbody>\n",
       "<tr><td>positiv labels (289)</td><td>negative labels (381)</td></tr>\n",
       "</tbody>\n",
       "</table>"
      ],
      "text/plain": [
       "<IPython.core.display.HTML object>"
      ]
     },
     "metadata": {},
     "output_type": "display_data"
    },
    {
     "data": {
      "text/html": [
       "<table>\n",
       "<tbody>\n",
       "<tr><td>             </td><td>true (454)</td><td>false (216)</td></tr>\n",
       "<tr><td>positiv (245)</td><td>159       </td><td>86         </td></tr>\n",
       "<tr><td>negativ (425)</td><td>295       </td><td>130        </td></tr>\n",
       "</tbody>\n",
       "</table>"
      ],
      "text/plain": [
       "<IPython.core.display.HTML object>"
      ]
     },
     "metadata": {},
     "output_type": "display_data"
    },
    {
     "data": {
      "text/html": [
       "<table>\n",
       "<tbody>\n",
       "<tr><td>accuracy          </td><td>precision         </td><td>recall            </td><td>f1Score           </td></tr>\n",
       "<tr><td>0.6776119402985075</td><td>0.6489795918367347</td><td>0.5501730103806228</td><td>0.5955056179775281</td></tr>\n",
       "</tbody>\n",
       "</table>"
      ],
      "text/plain": [
       "<IPython.core.display.HTML object>"
      ]
     },
     "metadata": {},
     "output_type": "display_data"
    },
    {
     "name": "stdout",
     "output_type": "stream",
     "text": [
      "-\n"
     ]
    },
    {
     "data": {
      "text/html": [
       "<table>\n",
       "<tbody>\n",
       "<tr><td>positiv labels (43)</td><td>negative labels (66)</td></tr>\n",
       "</tbody>\n",
       "</table>"
      ],
      "text/plain": [
       "<IPython.core.display.HTML object>"
      ]
     },
     "metadata": {},
     "output_type": "display_data"
    },
    {
     "data": {
      "text/html": [
       "<table>\n",
       "<tbody>\n",
       "<tr><td>            </td><td>true (68)</td><td>false (41)</td></tr>\n",
       "<tr><td>positiv (38)</td><td>20       </td><td>18        </td></tr>\n",
       "<tr><td>negativ (71)</td><td>48       </td><td>23        </td></tr>\n",
       "</tbody>\n",
       "</table>"
      ],
      "text/plain": [
       "<IPython.core.display.HTML object>"
      ]
     },
     "metadata": {},
     "output_type": "display_data"
    },
    {
     "data": {
      "text/html": [
       "<table>\n",
       "<tbody>\n",
       "<tr><td>accuracy          </td><td>precision         </td><td>recall             </td><td>f1Score            </td></tr>\n",
       "<tr><td>0.6238532110091743</td><td>0.5263157894736842</td><td>0.46511627906976744</td><td>0.49382716049382713</td></tr>\n",
       "</tbody>\n",
       "</table>"
      ],
      "text/plain": [
       "<IPython.core.display.HTML object>"
      ]
     },
     "metadata": {},
     "output_type": "display_data"
    },
    {
     "data": {
      "text/html": [
       "<table>\n",
       "<tbody>\n",
       "<tr><td>positiv labels (282)</td><td>negative labels (388)</td></tr>\n",
       "</tbody>\n",
       "</table>"
      ],
      "text/plain": [
       "<IPython.core.display.HTML object>"
      ]
     },
     "metadata": {},
     "output_type": "display_data"
    },
    {
     "data": {
      "text/html": [
       "<table>\n",
       "<tbody>\n",
       "<tr><td>             </td><td>true (493)</td><td>false (177)</td></tr>\n",
       "<tr><td>positiv (245)</td><td>175       </td><td>70         </td></tr>\n",
       "<tr><td>negativ (425)</td><td>318       </td><td>107        </td></tr>\n",
       "</tbody>\n",
       "</table>"
      ],
      "text/plain": [
       "<IPython.core.display.HTML object>"
      ]
     },
     "metadata": {},
     "output_type": "display_data"
    },
    {
     "data": {
      "text/html": [
       "<table>\n",
       "<tbody>\n",
       "<tr><td>accuracy         </td><td>precision         </td><td>recall            </td><td>f1Score           </td></tr>\n",
       "<tr><td>0.735820895522388</td><td>0.7142857142857143</td><td>0.6205673758865248</td><td>0.6641366223908918</td></tr>\n",
       "</tbody>\n",
       "</table>"
      ],
      "text/plain": [
       "<IPython.core.display.HTML object>"
      ]
     },
     "metadata": {},
     "output_type": "display_data"
    },
    {
     "name": "stdout",
     "output_type": "stream",
     "text": [
      "..\n"
     ]
    },
    {
     "data": {
      "text/html": [
       "<table>\n",
       "<tbody>\n",
       "<tr><td>positiv labels (48)</td><td>negative labels (61)</td></tr>\n",
       "</tbody>\n",
       "</table>"
      ],
      "text/plain": [
       "<IPython.core.display.HTML object>"
      ]
     },
     "metadata": {},
     "output_type": "display_data"
    },
    {
     "data": {
      "text/html": [
       "<table>\n",
       "<tbody>\n",
       "<tr><td>            </td><td>true (70)</td><td>false (39)</td></tr>\n",
       "<tr><td>positiv (31)</td><td>20       </td><td>11        </td></tr>\n",
       "<tr><td>negativ (78)</td><td>50       </td><td>28        </td></tr>\n",
       "</tbody>\n",
       "</table>"
      ],
      "text/plain": [
       "<IPython.core.display.HTML object>"
      ]
     },
     "metadata": {},
     "output_type": "display_data"
    },
    {
     "data": {
      "text/html": [
       "<table>\n",
       "<tbody>\n",
       "<tr><td>accuracy          </td><td>precision         </td><td>recall            </td><td>f1Score           </td></tr>\n",
       "<tr><td>0.6422018348623854</td><td>0.6451612903225806</td><td>0.4166666666666667</td><td>0.5063291139240507</td></tr>\n",
       "</tbody>\n",
       "</table>"
      ],
      "text/plain": [
       "<IPython.core.display.HTML object>"
      ]
     },
     "metadata": {},
     "output_type": "display_data"
    },
    {
     "data": {
      "text/html": [
       "<table>\n",
       "<tbody>\n",
       "<tr><td>positiv labels (270)</td><td>negative labels (400)</td></tr>\n",
       "</tbody>\n",
       "</table>"
      ],
      "text/plain": [
       "<IPython.core.display.HTML object>"
      ]
     },
     "metadata": {},
     "output_type": "display_data"
    },
    {
     "data": {
      "text/html": [
       "<table>\n",
       "<tbody>\n",
       "<tr><td>             </td><td>true (491)</td><td>false (179)</td></tr>\n",
       "<tr><td>positiv (245)</td><td>168       </td><td>77         </td></tr>\n",
       "<tr><td>negativ (425)</td><td>323       </td><td>102        </td></tr>\n",
       "</tbody>\n",
       "</table>"
      ],
      "text/plain": [
       "<IPython.core.display.HTML object>"
      ]
     },
     "metadata": {},
     "output_type": "display_data"
    },
    {
     "data": {
      "text/html": [
       "<table>\n",
       "<tbody>\n",
       "<tr><td>accuracy          </td><td>precision         </td><td>recall            </td><td>f1Score           </td></tr>\n",
       "<tr><td>0.7328358208955223</td><td>0.6857142857142857</td><td>0.6222222222222222</td><td>0.6524271844660194</td></tr>\n",
       "</tbody>\n",
       "</table>"
      ],
      "text/plain": [
       "<IPython.core.display.HTML object>"
      ]
     },
     "metadata": {},
     "output_type": "display_data"
    }
   ],
   "source": [
    "uppercaseFilters = []\n",
    "# uppercaseFilters.append(('all',generate_filter(0, 2000, uppercaseWords)))\n",
    "# addFilterInterval(uppercaseFilters, 0, 10, 1, uppercaseWords)\n",
    "uppercaseFilters.append(('all', all))\n",
    "# uppercaseFilters.append(('nicht Schimpfwort Deutsch',containsSwearWord))\n",
    "uppercaseFilters.append(('*',findReFilter(re.compile('.[\\*]'))))\n",
    "uppercaseFilters.append(('-',findReFilter(re.compile('\\w\\-\\w'))))\n",
    "uppercaseFilters.append(('!!!',findReFilter(re.compile(r'.[\\!]'))))\n",
    "uppercaseFilters.append(('???',findReFilter(re.compile(r'.[\\?]'))))\n",
    "uppercaseFilters.append(('...',findReFilter(re.compile(r'.[\\.][\\.]'))))\n",
    "\n",
    "#name, filters, relative\n",
    "createPlt(name = \"Test1 absolute\", filters = uppercaseFilters, relative = False)\n",
    "createPlt(name = \"Test1 relative\", filters = uppercaseFilters, relative = True)\n",
    "print('all')\n",
    "showMetrics(calcMetrics())\n",
    "print('nicht Schimpfwort Deutsch')\n",
    "showMetrics(calcMetrics(uppercaseFilters[1][1]))\n",
    "showMetrics(calcMetricDifference(calcMetrics(uppercaseFilters[1][1])))\n",
    "print('-')\n",
    "showMetrics(calcMetrics(uppercaseFilters[2][1]))\n",
    "showMetrics(calcMetricDifference(calcMetrics(uppercaseFilters[2][1])))\n",
    "print('..')\n",
    "showMetrics(calcMetrics(uppercaseFilters[4][1]))\n",
    "showMetrics(calcMetricDifference(calcMetrics(uppercaseFilters[4][1])))"
   ]
  },
  {
   "cell_type": "code",
   "execution_count": null,
   "metadata": {},
   "outputs": [],
   "source": []
  },
  {
   "cell_type": "code",
   "execution_count": null,
   "metadata": {},
   "outputs": [],
   "source": []
  }
 ],
 "metadata": {
  "kernelspec": {
   "display_name": "Python 3",
   "language": "python",
   "name": "python3"
  },
  "language_info": {
   "codemirror_mode": {
    "name": "ipython",
    "version": 3
   },
   "file_extension": ".py",
   "mimetype": "text/x-python",
   "name": "python",
   "nbconvert_exporter": "python",
   "pygments_lexer": "ipython3",
   "version": "3.7.6"
  }
 },
 "nbformat": 4,
 "nbformat_minor": 2
}
