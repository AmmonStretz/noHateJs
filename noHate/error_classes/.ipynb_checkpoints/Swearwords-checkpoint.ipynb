{
 "cells": [
  {
   "cell_type": "markdown",
   "metadata": {},
   "source": [
    "# Schimpfwörter #\n",
    "\n",
    "Hypothese:\n",
    "Schimpfwörter werden fehlinterpretiert wenn sie durch Sonderzeichen verschleiert werden.\n",
    "\n",
    "Grund: Statische Analyse"
   ]
  },
  {
   "cell_type": "code",
   "execution_count": 1,
   "metadata": {},
   "outputs": [],
   "source": [
    "%run ../config.ipynb\n",
    "%run ../lib/data_loader.ipynb\n",
    "%run ../lib/helper_functions.ipynb\n",
    "%run ../lib/diagramm_generator.ipynb\n",
    "%run ../lib/metrics_generator.ipynb\n",
    "%run ../lib/table_generator.ipynb\n",
    "\n",
    "data = load_data('../data/predictions.json')\n",
    "import csv\n",
    "import re"
   ]
  },
  {
   "cell_type": "code",
   "execution_count": 3,
   "metadata": {},
   "outputs": [],
   "source": [
    "#Swear_Word_Deutsch.csv\n",
    "ger_swear_words = {}\n",
    "with open('../data/Swear_Word_Deutsch.csv', encoding=\"utf8\") as csvfile:\n",
    "    reader = csv.DictReader(csvfile)\n",
    "    for row in reader:\n",
    "        ger_swear_words[row['Swear Word']] = True\n",
    "        ger_swear_words[row['Swear Word'].lower()] = True\n",
    "# als Teilwort\n",
    "def all(c):\n",
    "    return True\n",
    "def containsSwearWord(element):\n",
    "    for ger_swear_word in ger_swear_words.items():\n",
    "        if element['text'].find(ger_swear_word[0]) > 0:\n",
    "            return True\n",
    "    return False\n",
    "def containsTwoSwearWords(element):\n",
    "    for i in range(len(element['tokens'])-2):\n",
    "        if element['tokens'][i].text.lower() in ger_swear_words and element['tokens'][i+1].text.lower() in ger_swear_words:\n",
    "            return True\n",
    "    return False\n",
    "def containsInsult(element):\n",
    "    for i in range(len(element['tokens'])-3):\n",
    "        if element['tokens'][i].pos_ == 'PRON' and element['tokens'][i+1].pos_ == 'AUX' and element['tokens'][i+2].text.lower() in ger_swear_words:\n",
    "            return True\n",
    "    return False"
   ]
  },
  {
   "cell_type": "code",
   "execution_count": 4,
   "metadata": {},
   "outputs": [
    {
     "data": {
      "image/png": "[encoded data removed]",
      "text/plain": [
       "<Figure size 432x288 with 1 Axes>"
      ]
     },
     "metadata": {
      "needs_background": "light"
     },
     "output_type": "display_data"
    },
    {
     "data": {
      "image/png": "[encoded data removed]",
      "text/plain": [
       "<Figure size 432x288 with 1 Axes>"
      ]
     },
     "metadata": {
      "needs_background": "light"
     },
     "output_type": "display_data"
    },
    {
     "name": "stdout",
     "output_type": "stream",
     "text": [
      "all\n"
     ]
    },
    {
     "data": {
      "text/html": [
       "<table>\n",
       "<tbody>\n",
       "<tr><td>positiv labels (287)</td><td>negative labels (383)</td></tr>\n",
       "</tbody>\n",
       "</table>"
      ],
      "text/plain": [
       "<IPython.core.display.HTML object>"
      ]
     },
     "metadata": {},
     "output_type": "display_data"
    },
    {
     "data": {
      "text/html": [
       "<table>\n",
       "<tbody>\n",
       "<tr><td>             </td><td>true (452)</td><td>false (218)</td></tr>\n",
       "<tr><td>positiv (245)</td><td>157       </td><td>88         </td></tr>\n",
       "<tr><td>negativ (425)</td><td>295       </td><td>130        </td></tr>\n",
       "</tbody>\n",
       "</table>"
      ],
      "text/plain": [
       "<IPython.core.display.HTML object>"
      ]
     },
     "metadata": {},
     "output_type": "display_data"
    },
    {
     "data": {
      "text/html": [
       "<table>\n",
       "<tbody>\n",
       "<tr><td>accuracy          </td><td>precision         </td><td>recall            </td><td>f1Score           </td></tr>\n",
       "<tr><td>0.6746268656716418</td><td>0.6408163265306123</td><td>0.5470383275261324</td><td>0.5902255639097745</td></tr>\n",
       "</tbody>\n",
       "</table>"
      ],
      "text/plain": [
       "<IPython.core.display.HTML object>"
      ]
     },
     "metadata": {},
     "output_type": "display_data"
    },
    {
     "name": "stdout",
     "output_type": "stream",
     "text": [
      "Schimpfwort Deutsch\n"
     ]
    },
    {
     "data": {
      "text/html": [
       "<table>\n",
       "<tbody>\n",
       "<tr><td>positiv labels (273)</td><td>negative labels (346)</td></tr>\n",
       "</tbody>\n",
       "</table>"
      ],
      "text/plain": [
       "<IPython.core.display.HTML object>"
      ]
     },
     "metadata": {},
     "output_type": "display_data"
    },
    {
     "data": {
      "text/html": [
       "<table>\n",
       "<tbody>\n",
       "<tr><td>             </td><td>true (415)</td><td>false (204)</td></tr>\n",
       "<tr><td>positiv (231)</td><td>150       </td><td>81         </td></tr>\n",
       "<tr><td>negativ (388)</td><td>265       </td><td>123        </td></tr>\n",
       "</tbody>\n",
       "</table>"
      ],
      "text/plain": [
       "<IPython.core.display.HTML object>"
      ]
     },
     "metadata": {},
     "output_type": "display_data"
    },
    {
     "data": {
      "text/html": [
       "<table>\n",
       "<tbody>\n",
       "<tr><td>accuracy          </td><td>precision         </td><td>recall            </td><td>f1Score           </td></tr>\n",
       "<tr><td>0.6704361873990307</td><td>0.6493506493506493</td><td>0.5494505494505495</td><td>0.5952380952380952</td></tr>\n",
       "</tbody>\n",
       "</table>"
      ],
      "text/plain": [
       "<IPython.core.display.HTML object>"
      ]
     },
     "metadata": {},
     "output_type": "display_data"
    },
    {
     "data": {
      "text/html": [
       "<table>\n",
       "<tbody>\n",
       "<tr><td>positiv labels (245)</td><td>negative labels (425)</td></tr>\n",
       "</tbody>\n",
       "</table>"
      ],
      "text/plain": [
       "<IPython.core.display.HTML object>"
      ]
     },
     "metadata": {},
     "output_type": "display_data"
    },
    {
     "data": {
      "text/html": [
       "<table>\n",
       "<tbody>\n",
       "<tr><td>             </td><td>true (656)</td><td>false (14)</td></tr>\n",
       "<tr><td>positiv (245)</td><td>238       </td><td>7         </td></tr>\n",
       "<tr><td>negativ (425)</td><td>418       </td><td>7         </td></tr>\n",
       "</tbody>\n",
       "</table>"
      ],
      "text/plain": [
       "<IPython.core.display.HTML object>"
      ]
     },
     "metadata": {},
     "output_type": "display_data"
    },
    {
     "data": {
      "text/html": [
       "<table>\n",
       "<tbody>\n",
       "<tr><td>accuracy          </td><td>precision         </td><td>recall            </td><td>f1Score           </td></tr>\n",
       "<tr><td>0.9791044776119403</td><td>0.9714285714285714</td><td>0.9714285714285714</td><td>0.9714285714285714</td></tr>\n",
       "</tbody>\n",
       "</table>"
      ],
      "text/plain": [
       "<IPython.core.display.HTML object>"
      ]
     },
     "metadata": {},
     "output_type": "display_data"
    }
   ],
   "source": [
    "uppercaseFilters = []\n",
    "# uppercaseFilters.append(('all',generate_filter(0, 2000, uppercaseWords)))\n",
    "# addFilterInterval(uppercaseFilters, 0, 10, 1, uppercaseWords)\n",
    "uppercaseFilters.append(('all', all))\n",
    "uppercaseFilters.append(('Schimpfwort Deutsch',containsSwearWord))\n",
    "uppercaseFilters.append(('2 Schimpfwörter Deutsch',containsTwoSwearWords))\n",
    "uppercaseFilters.append(('Beleidigung',containsInsult))\n",
    "\n",
    "#name, filters, relative\n",
    "createPlt(name = \"Test1 absolute\", filters = uppercaseFilters, relative = False)\n",
    "createPlt(name = \"Test1 relative\", filters = uppercaseFilters, relative = True)\n",
    "print('all')\n",
    "showMetrics(calcMetrics())\n",
    "print('Schimpfwort Deutsch')\n",
    "showMetrics(calcMetrics(uppercaseFilters[1][1]))\n",
    "showMetrics(calcMetricDifference(calcMetrics(uppercaseFilters[1][1])))"
   ]
  },
  {
   "cell_type": "code",
   "execution_count": null,
   "metadata": {},
   "outputs": [],
   "source": []
  },
  {
   "cell_type": "code",
   "execution_count": null,
   "metadata": {},
   "outputs": [],
   "source": []
  }
 ],
 "metadata": {
  "kernelspec": {
   "display_name": "Python 3",
   "language": "python",
   "name": "python3"
  },
  "language_info": {
   "codemirror_mode": {
    "name": "ipython",
    "version": 3
   },
   "file_extension": ".py",
   "mimetype": "text/x-python",
   "name": "python",
   "nbconvert_exporter": "python",
   "pygments_lexer": "ipython3",
   "version": "3.7.6"
  }
 },
 "nbformat": 4,
 "nbformat_minor": 2
}
