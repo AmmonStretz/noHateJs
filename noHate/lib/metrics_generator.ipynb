{
 "cells": [
  {
   "cell_type": "code",
   "execution_count": null,
   "metadata": {},
   "outputs": [],
   "source": [
    "def showMetrics(metrics):\n",
    "    display(HTML(tabulate.tabulate([\n",
    "        ['positiv labels (%s)' % (metrics['tp']+metrics['fn']), 'negative labels (%s)' % (metrics['fp']+metrics['tn'])],\n",
    "    ], tablefmt='html')))\n",
    "    display(HTML(tabulate.tabulate([\n",
    "        ['', 'true (%s)' % metrics['true'], 'false (%s)' % metrics['false']],\n",
    "        ['positiv (%s)' % metrics['positiv'], metrics['tp'], metrics['fp']],\n",
    "        ['negativ (%s)' % metrics['negativ'], metrics['tn'], metrics['fn']],\n",
    "    ], tablefmt='html')))\n",
    "    display(HTML(tabulate.tabulate([\n",
    "        ['accuracy', 'precision', 'recall', 'f1Score'],\n",
    "        [metrics['accuracy'], metrics['precision'], metrics['recall'], metrics['f1Score']],\n",
    "    ], tablefmt='html')))"
   ]
  }
 ],
 "metadata": {
  "kernelspec": {
   "display_name": "Python 3",
   "language": "python",
   "name": "python3"
  },
  "language_info": {
   "codemirror_mode": {
    "name": "ipython",
    "version": 3
   },
   "file_extension": ".py",
   "mimetype": "text/x-python",
   "name": "python",
   "nbconvert_exporter": "python",
   "pygments_lexer": "ipython3",
   "version": "3.7.6"
  }
 },
 "nbformat": 4,
 "nbformat_minor": 4
}
