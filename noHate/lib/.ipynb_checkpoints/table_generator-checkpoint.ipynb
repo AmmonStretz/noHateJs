{
 "cells": [
  {
   "cell_type": "code",
   "execution_count": null,
   "metadata": {},
   "outputs": [],
   "source": [
    "def showData(f = defaultFilter):\n",
    "    table = []\n",
    "    table.append(['id', 'label', 'prediction', 'text', 'probability'])\n",
    "    \n",
    "    for el in filter(f, data):\n",
    "        table.append([el['id'], el['label'], el['prediction'], el['text'], el['probability']])\n",
    "        \n",
    "    display(HTML(tabulate.tabulate(table, tablefmt='html')))"
   ]
  }
 ],
 "metadata": {
  "kernelspec": {
   "display_name": "Python 3",
   "language": "python",
   "name": "python3"
  },
  "language_info": {
   "codemirror_mode": {
    "name": "ipython",
    "version": 3
   },
   "file_extension": ".py",
   "mimetype": "text/x-python",
   "name": "python",
   "nbconvert_exporter": "python",
   "pygments_lexer": "ipython3",
   "version": "3.7.6"
  }
 },
 "nbformat": 4,
 "nbformat_minor": 4
}
