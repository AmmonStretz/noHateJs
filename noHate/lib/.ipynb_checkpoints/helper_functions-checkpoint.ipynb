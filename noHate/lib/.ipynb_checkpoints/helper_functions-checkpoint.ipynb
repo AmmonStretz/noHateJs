{
 "cells": [
  {
   "cell_type": "code",
   "execution_count": 1,
   "metadata": {},
   "outputs": [],
   "source": [
    "def defaultFilter(el):\n",
    "    return True"
   ]
  },
  {
   "cell_type": "code",
   "execution_count": null,
   "metadata": {},
   "outputs": [],
   "source": [
    "def calcMetrics(f = defaultFilter):\n",
    "    tp = 0\n",
    "    tn = 0\n",
    "    fp = 0\n",
    "    fn = 0\n",
    "    for el in filter(f, data):\n",
    "        if el['label'] and el['prediction']:\n",
    "            tp += 1\n",
    "        if not el['label'] and not el['prediction']:\n",
    "            tn += 1\n",
    "        if el['label'] and not el['prediction']:\n",
    "            fp += 1\n",
    "        if not el['label'] and el['prediction']:\n",
    "            fn += 1\n",
    "    accuracy = 0\n",
    "    if (tp + fp + fn + tn) != 0:\n",
    "        accuracy = (tp + tn) / (tp + fp + fn + tn)\n",
    "    \n",
    "    precision = 0\n",
    "    if (tp + fp) != 0:\n",
    "        precision = tp / (tp + fp)\n",
    "    \n",
    "    recall = 0\n",
    "    if (tp + fn) != 0:\n",
    "        recall = tp / (tp + fn)\n",
    "    \n",
    "    f1Score = 0\n",
    "    if (recall + precision) != 0:\n",
    "        f1Score = (2 * (recall * precision)) / (recall + precision)\n",
    "    return {\n",
    "        \"tp\": tp,\n",
    "        \"tn\": tn,\n",
    "        \"fp\": fp,\n",
    "        \"fn\": fn,\n",
    "        \"true\": tp+tn,\n",
    "        \"false\": fp+fn,\n",
    "        \"positiv\": tp+fp,\n",
    "        \"negativ\": tn+fn,\n",
    "        \"accuracy\": accuracy,\n",
    "        \"precision\": precision,\n",
    "        \"recall\": recall,\n",
    "        \"f1Score\": f1Score\n",
    "    }"
   ]
  },
  {
   "cell_type": "code",
   "execution_count": null,
   "metadata": {},
   "outputs": [],
   "source": [
    "def calcMetricDifference(metrics):\n",
    "    default = calcMetrics()\n",
    "    tp = default['tp'] + metrics['fp']\n",
    "    tn = default['tn'] + metrics['fn']\n",
    "    fn = default['fn'] - metrics['fn']\n",
    "    fp = default['fp'] - metrics['fp']\n",
    "    accuracy = 0\n",
    "    if (tp + fp + fn + tn) != 0:\n",
    "        accuracy = (tp + tn) / (tp + fp + fn + tn)\n",
    "    \n",
    "    precision = 0\n",
    "    if (tp + fp) != 0:\n",
    "        precision = tp / (tp + fp)\n",
    "    \n",
    "    recall = 0\n",
    "    if (tp + fn) != 0:\n",
    "        recall = tp / (tp + fn)\n",
    "    \n",
    "    f1Score = 0\n",
    "    if (recall + precision) != 0:\n",
    "        f1Score = (2 * (recall * precision)) / (recall + precision)\n",
    "    return {\n",
    "        \"tp\": tp,\n",
    "        \"tn\": tn,\n",
    "        \"fp\": fp,\n",
    "        \"fn\": fn,\n",
    "        \"true\": tp+tn,\n",
    "        \"false\": fp+fn,\n",
    "        \"positiv\": tp+fp,\n",
    "        \"negativ\": tn+fn,\n",
    "        \"accuracy\": accuracy,\n",
    "        \"precision\": precision,\n",
    "        \"recall\": recall,\n",
    "        \"f1Score\": f1Score\n",
    "    }"
   ]
  }
 ],
 "metadata": {
  "kernelspec": {
   "display_name": "Python 3",
   "language": "python",
   "name": "python3"
  },
  "language_info": {
   "codemirror_mode": {
    "name": "ipython",
    "version": 3
   },
   "file_extension": ".py",
   "mimetype": "text/x-python",
   "name": "python",
   "nbconvert_exporter": "python",
   "pygments_lexer": "ipython3",
   "version": "3.7.6"
  }
 },
 "nbformat": 4,
 "nbformat_minor": 4
}
