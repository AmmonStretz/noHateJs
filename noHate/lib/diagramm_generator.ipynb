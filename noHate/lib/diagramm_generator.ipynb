{
 "cells": [
  {
   "cell_type": "code",
   "execution_count": null,
   "metadata": {},
   "outputs": [],
   "source": [
    "from IPython.display import HTML, display\n",
    "import numpy as np\n",
    "import matplotlib.pyplot as plt\n",
    "from matplotlib import rc\n",
    "import pandas as pd\n",
    "\n",
    "#showData()"
   ]
  },
  {
   "cell_type": "markdown",
   "metadata": {},
   "source": []
  },
  {
   "cell_type": "code",
   "execution_count": 1,
   "metadata": {},
   "outputs": [],
   "source": [
    "def showPlt(name, names,tp,tn,fp,fn):\n",
    "    bronzes = tp\n",
    "    silvers = tn\n",
    "    golds = fp\n",
    "    ind = names\n",
    "    barWidth = 0.5\n",
    "    rc('font', weight='bold')\n",
    "    plt.bar(ind, tp, width=barWidth, label='tp', color='#29abe2', edgecolor='white', bottom=fp+fn+tn)\n",
    "    plt.bar(ind, tn, width=barWidth, label='tn', color='#1e92ba', edgecolor='white', bottom=fn+fp)\n",
    "    plt.bar(ind, fp, width=barWidth, label='fp', color='#ed1c24', edgecolor='white', bottom=fn)\n",
    "    plt.bar(ind, fn, width=barWidth, label='fn', color='#d61827', edgecolor='white')\n",
    "\n",
    "    plt.xticks(ind, names)\n",
    "    #plt.ylabel(\"Medals\")\n",
    "    #plt.xlabel(\"filters\")\n",
    "    plt.legend(loc=\"upper right\")\n",
    "    plt.title(name)\n",
    "    #for i, v in enumerate(tp):\n",
    "    #    plt.text(i - 0.25, v + 0.01, str(v))\n",
    "    plt.show()\n",
    "def createPlt(name, filters, relative):\n",
    "    names = []\n",
    "    positions = range(len(filters))\n",
    "    tp = np.zeros(len(filters))\n",
    "    tn = np.zeros(len(filters))\n",
    "    fp = np.zeros(len(filters))\n",
    "    fn = np.zeros(len(filters))\n",
    "    index = 0\n",
    "    for f in filters:\n",
    "        names.append(f[0])\n",
    "        for el in filter(f[1], data):\n",
    "            if el['label'] and el['prediction']:\n",
    "                tp[index] += 1\n",
    "            if not el['label'] and not el['prediction']:\n",
    "                tn[index] += 1\n",
    "            if el['label'] and not el['prediction']:\n",
    "                fp[index] += 1\n",
    "            if not el['label'] and el['prediction']:\n",
    "                fn[index] += 1\n",
    "        index += 1\n",
    "    if relative:\n",
    "        index = 0\n",
    "        \n",
    "        for f in filters:\n",
    "            if len(list(filter(f[1], data))) > 0:\n",
    "                tp[index] = 100 * tp[index] / len(list(filter(f[1], data)))\n",
    "                tn[index] = 100 * tn[index] / len(list(filter(f[1], data)))\n",
    "                fp[index] = 100 * fp[index] / len(list(filter(f[1], data)))\n",
    "                fn[index] = 100 * fn[index] / len(list(filter(f[1], data)))\n",
    "            else:\n",
    "                tp[index] = 0\n",
    "                tn[index] = 0\n",
    "                fp[index] = 0\n",
    "                fn[index] = 0\n",
    "            index += 1\n",
    "            \n",
    "    showPlt(name, names,tp,tn,fp,fn)"
   ]
  },
  {
   "cell_type": "code",
   "execution_count": null,
   "metadata": {},
   "outputs": [],
   "source": []
  }
 ],
 "metadata": {
  "kernelspec": {
   "display_name": "Python 3",
   "language": "python",
   "name": "python3"
  },
  "language_info": {
   "codemirror_mode": {
    "name": "ipython",
    "version": 3
   },
   "file_extension": ".py",
   "mimetype": "text/x-python",
   "name": "python",
   "nbconvert_exporter": "python",
   "pygments_lexer": "ipython3",
   "version": "3.7.6"
  }
 },
 "nbformat": 4,
 "nbformat_minor": 4
}
